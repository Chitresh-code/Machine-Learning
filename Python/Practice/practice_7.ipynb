{
 "cells": [
  {
   "cell_type": "code",
   "execution_count": 1,
   "metadata": {},
   "outputs": [
    {
     "name": "stdout",
     "output_type": "stream",
     "text": [
      "Enter a number:  5\n"
     ]
    },
    {
     "name": "stdout",
     "output_type": "stream",
     "text": [
      "Multiplication table of 5: \n",
      "5 * 1 = 5\n",
      "5 * 2 = 10\n",
      "5 * 3 = 15\n",
      "5 * 4 = 20\n",
      "5 * 5 = 25\n",
      "5 * 6 = 30\n",
      "5 * 7 = 35\n",
      "5 * 8 = 40\n",
      "5 * 9 = 45\n",
      "5 * 10 = 50\n"
     ]
    }
   ],
   "source": [
    "# print multiplication table of a given number using for loop\n",
    "num = int(input(\"Enter a number: \"))\n",
    "\n",
    "print(f\"Multiplication table of {num}: \")\n",
    "for i in range(1, 11):\n",
    "    print(f\"{num} * {i} = {num * i}\")"
   ]
  },
  {
   "cell_type": "code",
   "execution_count": 2,
   "metadata": {},
   "outputs": [
    {
     "name": "stdout",
     "output_type": "stream",
     "text": [
      "Hello Soham\n",
      "Hello Sachin\n"
     ]
    }
   ],
   "source": [
    "# greet all the person names stored in a list ‘l’ and which starts with S.\n",
    "l = [\"Harry\", \"Soham\", \"Sachin\", \"Rahul\"]\n",
    "\n",
    "for name in l:\n",
    "    if name[0] == 'S':\n",
    "        print(f\"Hello {name}\")\n"
   ]
  },
  {
   "cell_type": "code",
   "execution_count": 3,
   "metadata": {},
   "outputs": [
    {
     "name": "stdout",
     "output_type": "stream",
     "text": [
      "Hello Soham\n",
      "Hello Sachin\n"
     ]
    }
   ],
   "source": [
    "# use while loop for above problem\n",
    "l = [\"Harry\", \"Soham\", \"Sachin\", \"Rahul\"]\n",
    "\n",
    "it = 0\n",
    "while it < 4:\n",
    "    if l[it][0] == 'S':\n",
    "        print(f\"Hello {l[it]}\")\n",
    "    it += 1"
   ]
  },
  {
   "cell_type": "code",
   "execution_count": 4,
   "metadata": {},
   "outputs": [
    {
     "name": "stdout",
     "output_type": "stream",
     "text": [
      "Enter a number:  4\n"
     ]
    },
    {
     "name": "stdout",
     "output_type": "stream",
     "text": [
      "4 is not a prime number\n"
     ]
    }
   ],
   "source": [
    "# find whether a given number is prime or not\n",
    "num = int(input(\"Enter a number: \"))\n",
    "factors = 0\n",
    "\n",
    "for i in range(2, num):\n",
    "    if num % i == 0:\n",
    "        factors += 1\n",
    "\n",
    "if (factors != 0):\n",
    "    print(f\"{num} is not a prime number\")\n",
    "else:\n",
    "    print(f\"{num} is a prime number\")"
   ]
  },
  {
   "cell_type": "code",
   "execution_count": 1,
   "metadata": {},
   "outputs": [
    {
     "name": "stdout",
     "output_type": "stream",
     "text": [
      "Enter the value of n:  10\n"
     ]
    },
    {
     "name": "stdout",
     "output_type": "stream",
     "text": [
      "55 is the sum of 10 natural numbers\n"
     ]
    }
   ],
   "source": [
    "# find the sum of first n natural numbers using while loop.\n",
    "n = int(input(\"Enter the value of n: \"))\n",
    "sum = 0\n",
    "num = 1\n",
    "while num <= n:\n",
    "    sum += num\n",
    "    num += 1\n",
    "print(f\"{sum} is the sum of {n} natural numbers\")\n"
   ]
  },
  {
   "cell_type": "code",
   "execution_count": 2,
   "metadata": {},
   "outputs": [
    {
     "name": "stdout",
     "output_type": "stream",
     "text": [
      "Enter the number:  5\n"
     ]
    },
    {
     "name": "stdout",
     "output_type": "stream",
     "text": [
      "120 is the factorial of 5\n"
     ]
    }
   ],
   "source": [
    "# calculate the factorial of a given number using for loop.\n",
    "num = int(input(\"Enter the number: \"))\n",
    "factorial = 1\n",
    "\n",
    "for fact in range(1, num+1):\n",
    "    factorial *= fact\n",
    "print(f\"{factorial} is the factorial of {num}\")"
   ]
  },
  {
   "cell_type": "code",
   "execution_count": 7,
   "metadata": {},
   "outputs": [
    {
     "name": "stdout",
     "output_type": "stream",
     "text": [
      "Enter the number of lines for the pattern:  5\n"
     ]
    },
    {
     "name": "stdout",
     "output_type": "stream",
     "text": [
      "    *\n",
      "   ***\n",
      "  *****\n",
      " *******\n",
      "*********\n"
     ]
    }
   ],
   "source": [
    "# print the following star pattern.\n",
    "#   *\n",
    "#  ***\n",
    "# *****\n",
    "lines = int(input(\"Enter the number of lines for the pattern: \"))\n",
    "\n",
    "for i in range(1, lines + 1):\n",
    "    for j in range(1, lines - i + 1):\n",
    "        print(\" \", end = \"\")\n",
    "    for j in range(1, 2 * i):\n",
    "        print('*', end = \"\")\n",
    "    print()"
   ]
  },
  {
   "cell_type": "code",
   "execution_count": 8,
   "metadata": {},
   "outputs": [
    {
     "name": "stdout",
     "output_type": "stream",
     "text": [
      "Enter the number of lines for the pattern:  3\n"
     ]
    },
    {
     "name": "stdout",
     "output_type": "stream",
     "text": [
      "*\n",
      "**\n",
      "***\n"
     ]
    }
   ],
   "source": [
    "# print the following star pattern:\n",
    "# *\n",
    "# **\n",
    "# ***\n",
    "lines = int(input(\"Enter the number of lines for the pattern: \"))\n",
    "\n",
    "for i in range(lines):\n",
    "    for j in range(i+1):\n",
    "        print(\"*\", end = \"\")\n",
    "    print()"
   ]
  },
  {
   "cell_type": "code",
   "execution_count": 12,
   "metadata": {},
   "outputs": [
    {
     "name": "stdout",
     "output_type": "stream",
     "text": [
      "Enter the number of lines for the pattern:  5\n"
     ]
    },
    {
     "name": "stdout",
     "output_type": "stream",
     "text": [
      "*****\n",
      "*   *\n",
      "*   *\n",
      "*   *\n",
      "*****\n"
     ]
    }
   ],
   "source": [
    "# print the following star pattern.\n",
    "# * * *\n",
    "# *   * \n",
    "# * * *\n",
    "lines = int(input(\"Enter the number of lines for the pattern: \"))\n",
    "\n",
    "for i in range(lines):\n",
    "    for j in range(lines):\n",
    "        if (i == 0) or (i == lines-1) or (j == 0) or (j == lines-1):\n",
    "            print(\"*\", end = \"\")\n",
    "        else:\n",
    "            print(\" \", end = \"\")\n",
    "    print()"
   ]
  },
  {
   "cell_type": "code",
   "execution_count": 11,
   "metadata": {},
   "outputs": [
    {
     "name": "stdout",
     "output_type": "stream",
     "text": [
      "5 * 10 = 50\n",
      "5 * 9 = 45\n",
      "5 * 8 = 40\n",
      "5 * 7 = 35\n",
      "5 * 6 = 30\n",
      "5 * 5 = 25\n",
      "5 * 4 = 20\n",
      "5 * 3 = 15\n",
      "5 * 2 = 10\n",
      "5 * 1 = 5\n"
     ]
    }
   ],
   "source": [
    "# print multiplication table of n using for loops in reversed order.\n",
    "num = int(input(\"Enter a number: \"))\n",
    "\n",
    "for i in range(10, 0, -1):\n",
    "    print(f\"{num} * {i} = {num * i}\")"
   ]
  }
 ],
 "metadata": {
  "kernelspec": {
   "display_name": "Python 3 (ipykernel)",
   "language": "python",
   "name": "python3"
  },
  "language_info": {
   "codemirror_mode": {
    "name": "ipython",
    "version": 3
   },
   "file_extension": ".py",
   "mimetype": "text/x-python",
   "name": "python",
   "nbconvert_exporter": "python",
   "pygments_lexer": "ipython3",
   "version": "3.12.4"
  }
 },
 "nbformat": 4,
 "nbformat_minor": 4
}

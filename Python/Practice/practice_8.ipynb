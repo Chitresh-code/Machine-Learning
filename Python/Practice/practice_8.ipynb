{
 "cells": [
  {
   "cell_type": "code",
   "execution_count": 2,
   "metadata": {},
   "outputs": [
    {
     "name": "stdout",
     "output_type": "stream",
     "text": [
      "The greatest is 3\n"
     ]
    }
   ],
   "source": [
    "# using functions find greatest of three numbers\n",
    "def greatestOfThree(a, b, c):\n",
    "    max = a\n",
    "    if b > max:\n",
    "        max = b\n",
    "    if c > max:\n",
    "        max = c\n",
    "    return max\n",
    "\n",
    "num1 = int(input(\"Enter the first number: \"))\n",
    "num2 = int(input(\"Enter the second number: \"))\n",
    "num3 = int(input(\"Enter the third number: \"))\n",
    "\n",
    "max = greatestOfThree(num1, num2, num3)\n",
    "\n",
    "print(f\"The greatest is {max}\")"
   ]
  },
  {
   "cell_type": "code",
   "execution_count": 6,
   "metadata": {},
   "outputs": [
    {
     "name": "stdout",
     "output_type": "stream",
     "text": [
      "The temperature in fahrenheit is 98.60\n"
     ]
    }
   ],
   "source": [
    "# using function convert Celsius to Fahrenheit.\n",
    "def convertTemp(celsius):\n",
    "    return (celsius * (9 / 5)) + 32\n",
    "    \n",
    "    \n",
    "celsius = float(input(\"Enter the temperature in celsius:\"))\n",
    "fahrenheit = convertTemp(celsius)\n",
    "print(f\"The temperature in fahrenheit is {fahrenheit:.2f}\")"
   ]
  },
  {
   "cell_type": "code",
   "execution_count": 7,
   "metadata": {},
   "outputs": [
    {
     "name": "stdout",
     "output_type": "stream",
     "text": [
      "The sum of 10 natural numbers is 55\n"
     ]
    }
   ],
   "source": [
    "# recursive function to calculate the sum of first n natural numbers.\n",
    "def sumOfNums(n):\n",
    "    if n == 1:\n",
    "        return 1\n",
    "    return n + sumOfNums(n-1)\n",
    "\n",
    "num = int(input(\"Enter the value of n: \"))\n",
    "sum = sumOfNums(num)\n",
    "print(f\"The sum of {num} natural numbers is {sum}\")"
   ]
  },
  {
   "cell_type": "code",
   "execution_count": 8,
   "metadata": {},
   "outputs": [
    {
     "name": "stdout",
     "output_type": "stream",
     "text": [
      "*****\n",
      "****\n",
      "***\n",
      "**\n",
      "*\n"
     ]
    }
   ],
   "source": [
    "# python function to print first n lines of the following pattern:\n",
    "# ***\n",
    "# **\n",
    "# *\n",
    "def printPattern(n):\n",
    "    for i in range(n):\n",
    "        for j in range(0, n-i):\n",
    "            print(\"*\", end = \"\")\n",
    "        print()\n",
    "        \n",
    "num = int(input(\"Enter the number of lines: \"))\n",
    "printPattern(num)"
   ]
  },
  {
   "cell_type": "code",
   "execution_count": 9,
   "metadata": {},
   "outputs": [
    {
     "name": "stdout",
     "output_type": "stream",
     "text": [
      "The value in centimeter is 12.70\n"
     ]
    }
   ],
   "source": [
    "# python function which converts inches to cms\n",
    "def inchesToCms(inches):\n",
    "    return inches * 2.54\n",
    "    \n",
    "\n",
    "inches = float(input(\"Enter the value in inches: \"))\n",
    "cms = inchesToCms(inches)\n",
    "\n",
    "print(f\"The value in centimeter is {cms:.2f}\")"
   ]
  },
  {
   "cell_type": "code",
   "execution_count": null,
   "metadata": {},
   "outputs": [],
   "source": [
    "# python function to print multiplication table of a given number.\n"
   ]
  }
 ],
 "metadata": {
  "kernelspec": {
   "display_name": "Python 3",
   "language": "python",
   "name": "python3"
  },
  "language_info": {
   "codemirror_mode": {
    "name": "ipython",
    "version": 3
   },
   "file_extension": ".py",
   "mimetype": "text/x-python",
   "name": "python",
   "nbconvert_exporter": "python",
   "pygments_lexer": "ipython3",
   "version": "3.12.5"
  }
 },
 "nbformat": 4,
 "nbformat_minor": 2
}

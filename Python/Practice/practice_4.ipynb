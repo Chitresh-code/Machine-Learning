{
 "cells": [
  {
   "cell_type": "code",
   "execution_count": 2,
   "metadata": {},
   "outputs": [
    {
     "name": "stdout",
     "output_type": "stream",
     "text": [
      "['Apple', 'Banana', 'Mango', 'Orange', 'Kiwi', 'Grape', 'Guava']\n"
     ]
    }
   ],
   "source": [
    "# store seven fruits in a list entered by the user\n",
    "list_of_fruits = []\n",
    "\n",
    "for i in range(7):\n",
    "    fruit = input(f\"Enter the fruit number {i+1}: \")\n",
    "    list_of_fruits.append(fruit)\n",
    "print(list_of_fruits)"
   ]
  },
  {
   "cell_type": "code",
   "execution_count": 4,
   "metadata": {},
   "outputs": [
    {
     "name": "stdout",
     "output_type": "stream",
     "text": [
      "['11', '33', '55', '66', '77', '99']\n"
     ]
    }
   ],
   "source": [
    "# accept marks of 6 students and display them in a sorted manner.\n",
    "marks = [input(f\"Enter marks of student {student}: \") for student in range(6)]\n",
    "marks.sort()\n",
    "print(marks)\n"
   ]
  },
  {
   "cell_type": "code",
   "execution_count": 5,
   "metadata": {},
   "outputs": [
    {
     "name": "stdout",
     "output_type": "stream",
     "text": [
      "Error: 'tuple' object does not support item assignment\n"
     ]
    }
   ],
   "source": [
    "# Check that a tuple type cannot be changed in python\n",
    "my_tuple = (1, 2, 3)\n",
    "\n",
    "try:\n",
    "    my_tuple[0] = 4\n",
    "except TypeError as e:\n",
    "    print(\"Error:\", e)\n"
   ]
  },
  {
   "cell_type": "code",
   "execution_count": 6,
   "metadata": {},
   "outputs": [
    {
     "name": "stdout",
     "output_type": "stream",
     "text": [
      "22\n"
     ]
    }
   ],
   "source": [
    "# sum a list with 4 numbers\n",
    "my_list = [int(input(f\"Enter number for index {num}: \")) for num in range(4)]\n",
    "sum_of_list = sum(my_list)\n",
    "print(sum_of_list)"
   ]
  },
  {
   "cell_type": "code",
   "execution_count": 8,
   "metadata": {},
   "outputs": [
    {
     "name": "stdout",
     "output_type": "stream",
     "text": [
      "3\n"
     ]
    }
   ],
   "source": [
    "# count the number of zeros in the following tuple:\n",
    "a = (7, 0, 8, 0, 0, 9)\n",
    "count = a.count(0)\n",
    "print(count)"
   ]
  }
 ],
 "metadata": {
  "kernelspec": {
   "display_name": "Python 3",
   "language": "python",
   "name": "python3"
  },
  "language_info": {
   "codemirror_mode": {
    "name": "ipython",
    "version": 3
   },
   "file_extension": ".py",
   "mimetype": "text/x-python",
   "name": "python",
   "nbconvert_exporter": "python",
   "pygments_lexer": "ipython3",
   "version": "3.12.5"
  }
 },
 "nbformat": 4,
 "nbformat_minor": 2
}

{
 "cells": [
  {
   "cell_type": "code",
   "execution_count": 1,
   "metadata": {},
   "outputs": [
    {
     "name": "stdout",
     "output_type": "stream",
     "text": [
      "\n",
      "Hello World\n",
      "My name is Chitresh\n",
      "I am a software developer\n",
      "\n"
     ]
    }
   ],
   "source": [
    "# Print multiple lines using a single print statement\n",
    "print(\"\"\"\n",
    "Hello World\n",
    "My name is Chitresh\n",
    "I am a software developer\n",
    "\"\"\"\n",
    ")"
   ]
  },
  {
   "cell_type": "code",
   "execution_count": 2,
   "metadata": {},
   "outputs": [
    {
     "name": "stdout",
     "output_type": "stream",
     "text": [
      "Requirement already satisfied: pyttsx3 in c:\\users\\gychi\\github\\machine-learning\\venv\\lib\\site-packages (2.90)\n",
      "Requirement already satisfied: comtypes in c:\\users\\gychi\\github\\machine-learning\\venv\\lib\\site-packages (from pyttsx3) (1.4.6)\n",
      "Requirement already satisfied: pypiwin32 in c:\\users\\gychi\\github\\machine-learning\\venv\\lib\\site-packages (from pyttsx3) (223)\n",
      "Requirement already satisfied: pywin32 in c:\\users\\gychi\\github\\machine-learning\\venv\\lib\\site-packages (from pyttsx3) (306)\n",
      "Note: you may need to restart the kernel to use updated packages.\n"
     ]
    }
   ],
   "source": [
    "# Use external modules in python\n",
    "%pip install pyttsx3\n",
    "\n",
    "import pyttsx3 # type: ignore\n",
    "engine = pyttsx3.init()\n",
    "engine.say(\"Hello, World!\")\n",
    "engine.runAndWait()"
   ]
  },
  {
   "cell_type": "code",
   "execution_count": 3,
   "metadata": {},
   "outputs": [
    {
     "name": "stdout",
     "output_type": "stream",
     "text": [
      "$360Section\n",
      "$AV_ASW\n",
      "$Recycle.Bin\n",
      "AMD\n",
      "appverifUI.dll\n",
      "Config.Msi\n",
      "Documents and Settings\n",
      "DumpStack.log\n",
      "DumpStack.log.tmp\n",
      "ffmpeg\n",
      "Games\n",
      "hiberfil.sys\n",
      "hp\n",
      "MinGW\n",
      "OneDriveTemp\n",
      "pagefile.sys\n",
      "PerfLogs\n",
      "poppler-24.07.0\n",
      "Program Files\n",
      "Program Files (x86)\n",
      "ProgramData\n",
      "Recovery\n",
      "SamFwTool\n",
      "SavedInputs-10-52-17__31-03-2024.cmsi\n",
      "SavedInputs-12-21-02__30-03-2024.cmsi\n",
      "SavedInputs-12-57-22__03-02-2024.cmsi\n",
      "SavedInputs-13-06-51__02-02-2024.cmsi\n",
      "SavedInputs-14-04-47__30-03-2024.cmsi\n",
      "SavedInputs-14-53-11__07-02-2024.cmsi\n",
      "SavedInputs-20-09-58__07-02-2024.cmsi\n",
      "SavedInputs-22-04-52__05-02-2024.cmsi\n",
      "SavedInputs-23-38-46__03-02-2024.cmsi\n",
      "SavedInputs-23-56-16__04-02-2024.cmsi\n",
      "swapfile.sys\n",
      "System Volume Information\n",
      "System.sav\n",
      "Users\n",
      "vfcompat.dll\n",
      "Windows\n"
     ]
    }
   ],
   "source": [
    "# learn the usage of os\n",
    "import os\n",
    "\n",
    "dir_path = '/' # C drive\n",
    "\n",
    "contents = os.listdir(dir_path) # List all the contents of dir_path\n",
    "\n",
    "for item in contents:\n",
    "    print(item)"
   ]
  }
 ],
 "metadata": {
  "kernelspec": {
   "display_name": "Python 3",
   "language": "python",
   "name": "python3"
  },
  "language_info": {
   "codemirror_mode": {
    "name": "ipython",
    "version": 3
   },
   "file_extension": ".py",
   "mimetype": "text/x-python",
   "name": "python",
   "nbconvert_exporter": "python",
   "pygments_lexer": "ipython3",
   "version": "3.12.5"
  }
 },
 "nbformat": 4,
 "nbformat_minor": 2
}

{
 "cells": [
  {
   "cell_type": "code",
   "execution_count": 5,
   "metadata": {},
   "outputs": [
    {
     "name": "stdout",
     "output_type": "stream",
     "text": [
      "The greatest of four numbers is 5\n"
     ]
    }
   ],
   "source": [
    "# find the greatest of four numbers entered by the user\n",
    "a, b, c, d = [int(input(\"Enter a number: \")) for _ in range(4)]\n",
    "\n",
    "max = a\n",
    "\n",
    "if b > max:\n",
    "    max = b\n",
    "if c > max:\n",
    "    max = c\n",
    "if d > max:\n",
    "    max = d\n",
    "print(f\"The greatest of four numbers is {max}\")"
   ]
  },
  {
   "cell_type": "code",
   "execution_count": 7,
   "metadata": {},
   "outputs": [
    {
     "name": "stdout",
     "output_type": "stream",
     "text": [
      "Fail\n"
     ]
    }
   ],
   "source": [
    "# find out whether a student has passed or failed if it requires a total of 40% and at least 33% in each subject to pass. Assume 3 subjects and take marks as an input from the user. (Assume max marks = 100)\n",
    "marks = [int(input(f\"Enter marks in subject {subject+1}\")) for subject in range(3)]\n",
    "\n",
    "total = sum(marks)\n",
    "if total >= 160:\n",
    "    for subject in marks:\n",
    "        if subject >= 33:\n",
    "            print(\"Pass\")\n",
    "        else:\n",
    "            print(\"Fail-\")\n",
    "else:\n",
    "    print(\"Fail\")"
   ]
  },
  {
   "cell_type": "code",
   "execution_count": 10,
   "metadata": {},
   "outputs": [
    {
     "name": "stdout",
     "output_type": "stream",
     "text": [
      "The message is not spam\n"
     ]
    }
   ],
   "source": [
    "# A spam comment is defined as a text containing following keywords:\n",
    "# “Make a lot of money”, “buy now”, “subscribe this”, “click this”. \n",
    "# Write a program to detect these spams\n",
    "def spam_check(message):\n",
    "    spam_keywords = [\n",
    "        \"Make a lot of money\", \n",
    "        \"buy now\", \n",
    "        \"subscribe this\", \n",
    "        \"click this\",\n",
    "    ]\n",
    "    \n",
    "    for spam in spam_keywords:\n",
    "        if spam in message:\n",
    "            return True\n",
    "    return False\n",
    "\n",
    "message = input(\"Enter the message: \")\n",
    "check = spam_check(message)\n",
    "\n",
    "if check:\n",
    "    print(\"The message spam\")\n",
    "else:\n",
    "    print(\"The message is not spam\")"
   ]
  },
  {
   "cell_type": "code",
   "execution_count": 12,
   "metadata": {},
   "outputs": [
    {
     "name": "stdout",
     "output_type": "stream",
     "text": [
      "The username contains less than 10 characters\n"
     ]
    }
   ],
   "source": [
    "#  find whether a given username contains less than 10 characters or not.\n",
    "username = input(\"Enter your username: \")\n",
    "length = len(username)\n",
    "\n",
    "if length < 10:\n",
    "    print(\"The username contains less than 10 characters\")\n",
    "else:\n",
    "    print(\"The username does not contain less than 10 characters\")"
   ]
  },
  {
   "cell_type": "code",
   "execution_count": 14,
   "metadata": {},
   "outputs": [
    {
     "name": "stdout",
     "output_type": "stream",
     "text": [
      "Rajat is not present in the list\n"
     ]
    }
   ],
   "source": [
    "# find out whether a given name is present in a list or not.\n",
    "list_of_names = ['Chitresh', 'Aman', 'Aakash', 'Sumit', 'Rahul']\n",
    "your_name = input(\"Enter your name: \")\n",
    "\n",
    "check = 0\n",
    "\n",
    "for name in list_of_names:\n",
    "    if name == your_name:\n",
    "        check += 1\n",
    "\n",
    "if check != 0:\n",
    "    print(f\"{your_name} is present in the list\")\n",
    "else:\n",
    "    print(f\"{your_name} is not present in the list\")"
   ]
  },
  {
   "cell_type": "code",
   "execution_count": 16,
   "metadata": {},
   "outputs": [
    {
     "name": "stdout",
     "output_type": "stream",
     "text": [
      "Grade: A+\n"
     ]
    }
   ],
   "source": [
    "# calculate the grade of a student from his marks from the following scheme:\n",
    "# 90 – 100 => A+\n",
    "# 80 – 90 => A\n",
    "# 70 – 80 => B\n",
    "# 60 – 70 =>C\n",
    "# 50 – 60 => D\n",
    "# <50 => F\n",
    "\n",
    "marks = int(input(\"Enter your marks to check your grade: \"))\n",
    "\n",
    "if marks >= 90 and marks <= 100:\n",
    "    print(\"Grade: A+\")\n",
    "elif marks >= 80 and marks < 90:\n",
    "    print(\"Grade: A\")\n",
    "elif marks >= 70 and marks < 80:\n",
    "    print(\"Grade: B\")\n",
    "elif marks >= 60 and marks < 70:\n",
    "    print(\"Grade: C\")\n",
    "elif marks >= 50 and marks < 60:\n",
    "    print(\"Grade: D\")\n",
    "else:\n",
    "    print(\"Grade: F\")\n",
    "    "
   ]
  },
  {
   "cell_type": "code",
   "execution_count": 21,
   "metadata": {},
   "outputs": [
    {
     "name": "stdout",
     "output_type": "stream",
     "text": [
      "The post is not talking about Harry\n"
     ]
    }
   ],
   "source": [
    "# find out whether a given post is talking about “Harry” or not\n",
    "post = input(\"Enter the post message\")\n",
    "new_post = post.lower()\n",
    "\n",
    "if \"harry\" in new_post:\n",
    "    print(\"The post is talking about Harry\")\n",
    "else:\n",
    "    print(\"The post is not talking about Harry\")"
   ]
  }
 ],
 "metadata": {
  "kernelspec": {
   "display_name": "Python 3",
   "language": "python",
   "name": "python3"
  },
  "language_info": {
   "codemirror_mode": {
    "name": "ipython",
    "version": 3
   },
   "file_extension": ".py",
   "mimetype": "text/x-python",
   "name": "python",
   "nbconvert_exporter": "python",
   "pygments_lexer": "ipython3",
   "version": "3.12.5"
  }
 },
 "nbformat": 4,
 "nbformat_minor": 2
}

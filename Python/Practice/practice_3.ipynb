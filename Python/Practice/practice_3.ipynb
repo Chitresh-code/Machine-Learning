{
 "cells": [
  {
   "cell_type": "code",
   "execution_count": 1,
   "metadata": {},
   "outputs": [
    {
     "name": "stdout",
     "output_type": "stream",
     "text": [
      "Good Afternoon Chitresh\n"
     ]
    }
   ],
   "source": [
    "# display a user entered name followed by Good Afternoon using input () function.\n",
    "name = input(\"Enter your name: \")\n",
    "print(f\"Good Afternoon {name}\")"
   ]
  },
  {
   "cell_type": "code",
   "execution_count": 2,
   "metadata": {},
   "outputs": [
    {
     "name": "stdout",
     "output_type": "stream",
     "text": [
      "\n",
      "Dear Chitresh,\n",
      "    You are selected!\n",
      "    15-08-2024\n",
      "\n"
     ]
    }
   ],
   "source": [
    "# fill in a letter template given below with name and date\n",
    "\"\"\"\n",
    "letter = '''\n",
    "Dear <|Name|>,\n",
    "    You are selected!\n",
    "    <|Date|>\n",
    "'''\n",
    "\"\"\"\n",
    "from datetime import datetime\n",
    "\n",
    "letter = '''\n",
    "Dear <|Name|>,\n",
    "    You are selected!\n",
    "    <|Date|>\n",
    "'''\n",
    "name = input(\"Enter your name: \")\n",
    "date = datetime.now().strftime(\"%d-%m-%Y\")\n",
    "\n",
    "filled_letter = letter.replace(\"<|Name|>\", name).replace(\"<|Date|>\", date)\n",
    "print(filled_letter)"
   ]
  },
  {
   "cell_type": "code",
   "execution_count": 3,
   "metadata": {},
   "outputs": [
    {
     "name": "stdout",
     "output_type": "stream",
     "text": [
      "Double spaces found at index 8\n"
     ]
    }
   ],
   "source": [
    "#  detect double space in a string\n",
    "str = input(\"Enter a string: \")\n",
    "index = str.find(\"  \")\n",
    "\n",
    "if index == -1:\n",
    "    print(\"No double spaces found\")\n",
    "else:\n",
    "    print(f\"Double spaces found at index {index}\")"
   ]
  },
  {
   "cell_type": "code",
   "execution_count": 4,
   "metadata": {},
   "outputs": [
    {
     "name": "stdout",
     "output_type": "stream",
     "text": [
      "The new string is Chitresh Gyanani\n"
     ]
    }
   ],
   "source": [
    "# Replace the double space from problem 3 with single spaces.\n",
    "str = input(\"Enter a string: \")\n",
    "new_str = str.replace(\"  \", \" \")\n",
    "print(f\"The new string is {new_str}\")"
   ]
  },
  {
   "cell_type": "code",
   "execution_count": 5,
   "metadata": {},
   "outputs": [
    {
     "name": "stdout",
     "output_type": "stream",
     "text": [
      "Dear Creator,\n",
      "this python language is nice.\n",
      "Thanks!\n"
     ]
    }
   ],
   "source": [
    "# format the following letter using escape sequence characters.\n",
    "# letter = \"Dear Harry, this python course is nice. Thanks!\"\n",
    "\n",
    "letter = \"Dear Creator,\\nthis python language is nice.\\nThanks!\"\n",
    "print(letter)"
   ]
  },
  {
   "cell_type": "code",
   "execution_count": null,
   "metadata": {},
   "outputs": [],
   "source": []
  }
 ],
 "metadata": {
  "kernelspec": {
   "display_name": "Python 3",
   "language": "python",
   "name": "python3"
  },
  "language_info": {
   "codemirror_mode": {
    "name": "ipython",
    "version": 3
   },
   "file_extension": ".py",
   "mimetype": "text/x-python",
   "name": "python",
   "nbconvert_exporter": "python",
   "pygments_lexer": "ipython3",
   "version": "3.12.5"
  }
 },
 "nbformat": 4,
 "nbformat_minor": 2
}

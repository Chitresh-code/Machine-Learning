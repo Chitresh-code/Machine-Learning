{
 "cells": [
  {
   "cell_type": "code",
   "execution_count": 2,
   "metadata": {},
   "outputs": [
    {
     "name": "stdout",
     "output_type": "stream",
     "text": [
      "The English translation of 'पानी' is: Water\n"
     ]
    }
   ],
   "source": [
    "#  create a dictionary of Hindi words with values as their English translation. Provide user with an option to look it up!\n",
    "\n",
    "hindi_to_english = {\n",
    "    \"नमस्ते\": \"Hello\",\n",
    "    \"धन्यवाद\": \"Thank you\",\n",
    "    \"सुबह\": \"Morning\",\n",
    "    \"रात\": \"Night\",\n",
    "    \"खाना\": \"Food\",\n",
    "    \"पानी\": \"Water\",\n",
    "    \"घर\": \"Home\",\n",
    "    \"मित्र\": \"Friend\",\n",
    "    \"परिवार\": \"Family\",\n",
    "    \"स्कूल\": \"School\",\n",
    "    \"काम\": \"Work\",\n",
    "    \"स्वास्थ्य\": \"Health\",\n",
    "    \"सपना\": \"Dream\",\n",
    "    \"शक्ति\": \"Power\",\n",
    "    \"शांति\": \"Peace\"\n",
    "}\n",
    "\n",
    "hindi_word = input(\"Enter a Hindi word to look up its English translation: \")\n",
    "translation = hindi_to_english.get(hindi_word, \"Translation not found\")\n",
    "print(f\"The English translation of '{hindi_word}' is: {translation}\")\n"
   ]
  },
  {
   "cell_type": "code",
   "execution_count": 3,
   "metadata": {},
   "outputs": [
    {
     "name": "stdout",
     "output_type": "stream",
     "text": [
      "1\n",
      "2\n",
      "3\n",
      "4\n",
      "5\n"
     ]
    }
   ],
   "source": [
    "# input eight numbers from the user and display all the unique numbers (once).\n",
    "unique_nums = {int(input(f\"Enter number {num+1}: \")) for num in range(8)}\n",
    "for num in unique_nums:\n",
    "    print(num)"
   ]
  },
  {
   "cell_type": "code",
   "execution_count": 12,
   "metadata": {},
   "outputs": [
    {
     "name": "stdout",
     "output_type": "stream",
     "text": [
      "1\n",
      "2\n",
      "3\n",
      "4\n",
      "5\n"
     ]
    }
   ],
   "source": [
    "unique_nums = set()\n",
    "for _ in range(8):\n",
    "    num = int(input(\"Enter a number: \"))\n",
    "    unique_nums.add(num)\n",
    "\n",
    "for num in unique_nums:\n",
    "    print(num)"
   ]
  },
  {
   "cell_type": "code",
   "execution_count": 4,
   "metadata": {},
   "outputs": [
    {
     "name": "stdout",
     "output_type": "stream",
     "text": [
      "{18, '18'}\n"
     ]
    }
   ],
   "source": [
    "# Can we have a set with 18 (int) and '18' (str) as a value in it?\n",
    "int_string = {18, '18'}\n",
    "print(int_string)"
   ]
  },
  {
   "cell_type": "code",
   "execution_count": 6,
   "metadata": {},
   "outputs": [
    {
     "name": "stdout",
     "output_type": "stream",
     "text": [
      "2\n"
     ]
    }
   ],
   "source": [
    "# What will be the length of following set s:\n",
    "s = set()\n",
    "s.add(20)\n",
    "s.add(20.0)\n",
    "s.add('20')\n",
    "length = len(s)\n",
    "print(length)  # Output: 2"
   ]
  },
  {
   "cell_type": "code",
   "execution_count": 7,
   "metadata": {},
   "outputs": [
    {
     "name": "stdout",
     "output_type": "stream",
     "text": [
      "<class 'dict'>\n"
     ]
    }
   ],
   "source": [
    "s = {}\n",
    "print(type(s))"
   ]
  },
  {
   "cell_type": "code",
   "execution_count": 9,
   "metadata": {},
   "outputs": [
    {
     "name": "stdout",
     "output_type": "stream",
     "text": [
      "{'Chitresh': 'Hindi', 'Owais': 'Urdu', 'Krishnam': 'Japanese', 'Naman': 'Barking'}\n"
     ]
    }
   ],
   "source": [
    "# Allow 4 friends to enter their favorite language as value and use key as their names. Assume that the names are unique\n",
    "fav_lang = {input(\"Enter your name: \"): input(\"Enter your favourite language:\") for _ in range(4)}\n",
    "print(fav_lang)"
   ]
  },
  {
   "cell_type": "code",
   "execution_count": 14,
   "metadata": {},
   "outputs": [
    {
     "name": "stdout",
     "output_type": "stream",
     "text": [
      "{'Chitresh': 'Hindi', 'Owais': 'Urdu', 'Krishnam': 'Hindi', 'Naman': 'Barking'}\n"
     ]
    }
   ],
   "source": [
    "# Allow 4 friends to enter their favorite language as value and use key as their names. Assume that the names are unique\n",
    "fav_lang = {}\n",
    "\n",
    "for _ in range(4):\n",
    "    name = input(\"Enter your name: \")\n",
    "    lang = input(\"Enter your favourite language: \")\n",
    "    fav_lang[name] = lang\n",
    "    \n",
    "print(fav_lang)"
   ]
  },
  {
   "cell_type": "code",
   "execution_count": 15,
   "metadata": {},
   "outputs": [
    {
     "ename": "TypeError",
     "evalue": "unhashable type: 'list'",
     "output_type": "error",
     "traceback": [
      "\u001b[1;31m---------------------------------------------------------------------------\u001b[0m",
      "\u001b[1;31mTypeError\u001b[0m                                 Traceback (most recent call last)",
      "Cell \u001b[1;32mIn[15], line 2\u001b[0m\n\u001b[0;32m      1\u001b[0m \u001b[38;5;66;03m# Can you change the values inside a list which is contained in set S?\u001b[39;00m\n\u001b[1;32m----> 2\u001b[0m s \u001b[38;5;241m=\u001b[39m {\u001b[38;5;241m8\u001b[39m, \u001b[38;5;241m7\u001b[39m, \u001b[38;5;241m12\u001b[39m, \u001b[38;5;124m\"\u001b[39m\u001b[38;5;124mHarry\u001b[39m\u001b[38;5;124m\"\u001b[39m, [\u001b[38;5;241m1\u001b[39m,\u001b[38;5;241m2\u001b[39m]}\n\u001b[0;32m      3\u001b[0m \u001b[38;5;28mprint\u001b[39m(s)\n",
      "\u001b[1;31mTypeError\u001b[0m: unhashable type: 'list'"
     ]
    }
   ],
   "source": [
    "# Can you change the values inside a list which is contained in set S?\n",
    "s = {8, 7, 12, \"Harry\", [1,2]}\n",
    "print(s)"
   ]
  }
 ],
 "metadata": {
  "kernelspec": {
   "display_name": "Python 3",
   "language": "python",
   "name": "python3"
  },
  "language_info": {
   "codemirror_mode": {
    "name": "ipython",
    "version": 3
   },
   "file_extension": ".py",
   "mimetype": "text/x-python",
   "name": "python",
   "nbconvert_exporter": "python",
   "pygments_lexer": "ipython3",
   "version": "3.12.5"
  }
 },
 "nbformat": 4,
 "nbformat_minor": 2
}

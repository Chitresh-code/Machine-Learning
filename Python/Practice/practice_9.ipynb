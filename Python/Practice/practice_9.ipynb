{
 "cells": [
  {
   "cell_type": "code",
   "execution_count": 1,
   "metadata": {},
   "outputs": [
    {
     "name": "stdout",
     "output_type": "stream",
     "text": [
      "The word twinkle is present in the file\n"
     ]
    }
   ],
   "source": [
    "# Write a program to read the text from a given file ‘poems.txt’ and find out whether it contains the word ‘twinkle’.\n",
    "def findWord(filename, word):\n",
    "    with open(filename, 'r') as file:\n",
    "        content = file.read()\n",
    "        if word in content:\n",
    "            return True\n",
    "        else:\n",
    "            return False\n",
    "        \n",
    "if __name__ == \"__main__\":\n",
    "    filename = 'Assets/poems.txt'\n",
    "    word = 'twinkle'\n",
    "    \n",
    "    if findWord(filename, word):\n",
    "        print(f\"The word {word} is present in the file\")\n",
    "    else:\n",
    "        print(f\"The word {word} is not present in the file\")"
   ]
  },
  {
   "cell_type": "code",
   "execution_count": 5,
   "metadata": {},
   "outputs": [],
   "source": [
    "# The game() function in a program lets a user play a game and returns the score as an integer. You need to read a file ‘Hi-score.txt’ which is either blank or contains the previous Hi-score. You need to write a program to update the Hiscore whenever the game() function breaks the Hi-score.\n",
    "def getHighScore(score):\n",
    "    with open('Assets/Hi-score.txt', 'r') as file:\n",
    "        high_score = file.read()\n",
    "        if score > high_score:\n",
    "                high_score = score\n",
    "    \n",
    "    with open('Assets/Hi-score.txt', 'w') as file:\n",
    "        file.write(high_score)\n",
    "\n",
    "def game():\n",
    "    # Code for the game\n",
    "    \n",
    "    # taking user input as there is no game code currently\n",
    "    final_score = input(\"Enter the final score: \")\n",
    "    \n",
    "    getHighScore(final_score)\n",
    "    \n",
    "if __name__ == \"__main__\":\n",
    "    game()"
   ]
  },
  {
   "cell_type": "code",
   "execution_count": 11,
   "metadata": {},
   "outputs": [],
   "source": [
    "# Write a program to generate multiplication tables from 2 to 20 and write it to the different files. Place these files in a folder for a 13 – year old\n",
    "def printTable(num):\n",
    "    table = []\n",
    "    for mul in range(1, 11):\n",
    "        tab = f\"{num} x {mul} = {num * mul}\"\n",
    "        table.append(tab)\n",
    "    return table\n",
    "\n",
    "def saveTable(table, file_name):\n",
    "    with open(file_name, 'w') as file:\n",
    "        for item in table:\n",
    "            file.write(item + \"\\n\")\n",
    "\n",
    "if __name__ == \"__main__\":\n",
    "    for n in range(2, 21):\n",
    "        table = printTable(n)\n",
    "        table_name = f\"Assets/Tables/{n}_table.txt\"\n",
    "        saveTable(table, table_name)"
   ]
  },
  {
   "cell_type": "code",
   "execution_count": 17,
   "metadata": {},
   "outputs": [],
   "source": [
    "# A file contains a word “Donkey” multiple times. You need to write a program which replace this word with ##### by updating the same file.\n",
    "def readFile(filename):\n",
    "    with open(filename, 'r') as file:\n",
    "        text = file.read()\n",
    "    return text\n",
    "        \n",
    "def changeWord(filename, word, text):\n",
    "    with open(filename, 'w') as file:\n",
    "        if word in text:\n",
    "            updated_text = text.replace(word, \"#####\")\n",
    "        file.write(updated_text)\n",
    "        \n",
    "if __name__ == \"__main__\":\n",
    "    filename = \"Assets/donkey.txt\"\n",
    "    word = \"donkey\"\n",
    "    text = readFile(filename)\n",
    "    changeWord(filename, word, text)"
   ]
  },
  {
   "cell_type": "code",
   "execution_count": 19,
   "metadata": {},
   "outputs": [
    {
     "name": "stdout",
     "output_type": "stream",
     "text": [
      "2024-08-24 10:00:00 INFO Starting the Python application\n",
      "2024-08-24 10:02:00 WARN Python script running slower than expected\n",
      "2024-08-24 10:04:00 INFO Python script finished successfully\n",
      "2024-08-24 10:06:00 INFO Restarting the Python application\n",
      "2024-08-24 10:10:00 INFO Python garbage collector executed\n"
     ]
    }
   ],
   "source": [
    "# Write a program to mine a log file and find out whether it contains ‘python’.\n",
    "def mineLogs(filename, word):\n",
    "    result = []\n",
    "    with open(filename, 'r') as file:\n",
    "        for line in file:\n",
    "            current_line = line.strip()\n",
    "            if word in current_line:\n",
    "                result.append(current_line)\n",
    "    return result\n",
    "\n",
    "if __name__ == \"__main__\":\n",
    "    filename = \"Assets/logs.txt\"\n",
    "    word = \"Python\"\n",
    "    lines = mineLogs(filename, word)\n",
    "    for item in lines:\n",
    "        print(item)"
   ]
  },
  {
   "cell_type": "code",
   "execution_count": 23,
   "metadata": {},
   "outputs": [
    {
     "name": "stdout",
     "output_type": "stream",
     "text": [
      "The word Python is present in line nos:\n",
      "1\n",
      "3\n",
      "5\n",
      "7\n",
      "11\n"
     ]
    }
   ],
   "source": [
    "# Write a program to find out the line number where python is present from ques 6.\n",
    "def mineLogs(filename, word):\n",
    "    result = []\n",
    "    it = 0\n",
    "    with open(filename, 'r') as file:\n",
    "        for line in file:\n",
    "            it += 1\n",
    "            current_line = line.strip()\n",
    "            if word in current_line:\n",
    "                result.append(it)\n",
    "    return result\n",
    "\n",
    "if __name__ == \"__main__\":\n",
    "    filename = \"Assets/logs.txt\"\n",
    "    word = \"Python\"\n",
    "    lines = mineLogs(filename, word)\n",
    "    print(f\"The word {word} is present in line nos:\")\n",
    "    for item in lines:\n",
    "        print(item)"
   ]
  },
  {
   "cell_type": "code",
   "execution_count": 27,
   "metadata": {},
   "outputs": [],
   "source": [
    "# Write a program to make a copy of a text file “this.txt”\n",
    "def createCopy(current_filename, new_filename):\n",
    "    with open(current_filename, 'r') as file_1, open(new_filename, 'w') as file_2:\n",
    "        text = file_1.read()\n",
    "        file_2.write(text)\n",
    "\n",
    "if __name__ == \"__main__\":\n",
    "    filename = 'Assets/this.txt'\n",
    "    new_file = 'Assets/copy.txt'\n",
    "    createCopy(filename, new_file)"
   ]
  },
  {
   "cell_type": "code",
   "execution_count": 30,
   "metadata": {},
   "outputs": [
    {
     "name": "stdout",
     "output_type": "stream",
     "text": [
      "The files are similar\n",
      "The files are not similar\n"
     ]
    }
   ],
   "source": [
    "# Write a program to find out whether a file is identical & matches the content of another file.\n",
    "def checkIdentity(file_path_1, file_path_2):\n",
    "    with open(file_path_1, 'r') as file_1, open(file_path_2, 'r') as file_2:\n",
    "        text_1, text_2 = file_1.read(), file_2.read()\n",
    "        if text_1 == text_2:\n",
    "            return True\n",
    "        else:\n",
    "            return False\n",
    "\n",
    "if __name__ == \"__main__\":\n",
    "    file1 = 'Assets/this.txt'\n",
    "    file2 = 'Assets/copy.txt'\n",
    "    file4 = 'Assets/logs.txt'\n",
    "    \n",
    "    if checkIdentity(file1, file2):\n",
    "        print(\"The files are similar\")\n",
    "    else:\n",
    "        print(\"The files are not similar\")\n",
    "        \n",
    "    if checkIdentity(file2, file4):\n",
    "        print(\"The files are similar\")\n",
    "    else:\n",
    "        print(\"The files are not similar\")"
   ]
  },
  {
   "cell_type": "code",
   "execution_count": 32,
   "metadata": {},
   "outputs": [],
   "source": [
    "# Write a program to wipe out the content of a file using python.\n",
    "def wipeContent(filepath):\n",
    "    with open(filepath, 'w') as file:\n",
    "        pass\n",
    "    \n",
    "if __name__ == \"__main__\":\n",
    "    filepath = 'Assets/copy.txt'\n",
    "    wipeContent(filepath)"
   ]
  },
  {
   "cell_type": "code",
   "execution_count": 35,
   "metadata": {},
   "outputs": [],
   "source": [
    "# Write a python program to rename a file to “renamed_by_ python.txt.\n",
    "import os\n",
    "\n",
    "def renameFile(old_name, new_name):\n",
    "    os.rename(old_name, new_name)\n",
    "\n",
    "if __name__ == \"__main__\":\n",
    "    filename = 'Assets/this.txt'\n",
    "    newname = 'Assets/renamed_by_python.txt'\n",
    "    renameFile(filename, newname)"
   ]
  }
 ],
 "metadata": {
  "kernelspec": {
   "display_name": "Python 3",
   "language": "python",
   "name": "python3"
  },
  "language_info": {
   "codemirror_mode": {
    "name": "ipython",
    "version": 3
   },
   "file_extension": ".py",
   "mimetype": "text/x-python",
   "name": "python",
   "nbconvert_exporter": "python",
   "pygments_lexer": "ipython3",
   "version": "3.12.5"
  }
 },
 "nbformat": 4,
 "nbformat_minor": 2
}

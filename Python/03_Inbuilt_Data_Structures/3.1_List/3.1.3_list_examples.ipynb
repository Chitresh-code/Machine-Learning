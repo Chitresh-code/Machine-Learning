{
 "cells": [
  {
   "cell_type": "markdown",
   "metadata": {},
   "source": [
    "### Real world examples using lists"
   ]
  },
  {
   "cell_type": "markdown",
   "metadata": {},
   "source": [
    " - To do list"
   ]
  },
  {
   "cell_type": "code",
   "execution_count": 3,
   "metadata": {},
   "outputs": [
    {
     "name": "stdout",
     "output_type": "stream",
     "text": [
      "Task is present\n",
      "Remaining Tasks:\n",
      "pay the bill\n",
      "study\n",
      "play football\n"
     ]
    }
   ],
   "source": [
    "# To do list\n",
    "to_do_list = ['pay the bill', 'study', 'play football']\n",
    "\n",
    "# Adding tasks\n",
    "task = input(\"Enter a new task: \")\n",
    "to_do_list.append(task)\n",
    "\n",
    "# Removing complete task\n",
    "task = input(\"Enter completed task to delete: \")\n",
    "to_do_list.remove(task)\n",
    "\n",
    "# Checking if a task is in the list\n",
    "task = input(\"Enter task to check availablity: \")\n",
    "if task in to_do_list:\n",
    "    print(\"Task is present\")\n",
    "else:\n",
    "    print(\"Task isn't present\")\n",
    "    \n",
    "# Print all tasks in the list\n",
    "print(\"Remaining Tasks:\")\n",
    "for task in to_do_list:\n",
    "    print(task)"
   ]
  },
  {
   "cell_type": "markdown",
   "metadata": {},
   "source": [
    " - Organizing Student Grades"
   ]
  },
  {
   "cell_type": "code",
   "execution_count": 4,
   "metadata": {},
   "outputs": [
    {
     "name": "stdout",
     "output_type": "stream",
     "text": [
      "Average Grade: 88.00\n",
      "Higest Grade: 95.00\n",
      "Lowest Grade: 78.00\n"
     ]
    }
   ],
   "source": [
    "# list to store and calculate average grades for students\n",
    "grades = [85, 92, 78, 90, 88]\n",
    "\n",
    "# Adding a new grade\n",
    "grades.append(95)\n",
    "\n",
    "# Calculating average grade\n",
    "average_grade = sum(grades) / len(grades)\n",
    "print(f\"Average Grade: {average_grade:.2f}\")\n",
    "\n",
    "# Finding higest and lowest grade\n",
    "higest_grade = max(grades)\n",
    "lowest_grade = min(grades)\n",
    "\n",
    "print(f\"Higest Grade: {higest_grade:.2f}\")\n",
    "print(f\"Lowest Grade: {lowest_grade:.2f}\")"
   ]
  },
  {
   "cell_type": "markdown",
   "metadata": {},
   "source": [
    " - Managing an inventory"
   ]
  },
  {
   "cell_type": "code",
   "execution_count": 6,
   "metadata": {},
   "outputs": [
    {
     "name": "stdout",
     "output_type": "stream",
     "text": [
      "oranges are in stock\n",
      "Items in the inventory are: \n",
      "- apples\n",
      "- oranges\n",
      "- grapes\n",
      "- watermelon\n"
     ]
    }
   ],
   "source": [
    "# List to manage inventory items in a store\n",
    "inventory = ['apples', 'bananas', 'oranges', 'grapes']\n",
    "\n",
    "# Adding new items\n",
    "inventory.append('watermelon')\n",
    "\n",
    "# Removing an item that is out of stock\n",
    "inventory.remove('bananas')\n",
    "\n",
    "# Checking if an item is in stock\n",
    "item = 'oranges'\n",
    "if item in inventory:\n",
    "    print(f\"{item} are in stock\")\n",
    "else:\n",
    "    print(f\"{item} are out of stock\")\n",
    "    \n",
    "# Printing all inventory items\n",
    "print(\"Items in the inventory are: \")\n",
    "for item in inventory:\n",
    "    print(f\"- {item}\")"
   ]
  },
  {
   "cell_type": "markdown",
   "metadata": {},
   "source": [
    " - Collecting user feedback"
   ]
  },
  {
   "cell_type": "code",
   "execution_count": 8,
   "metadata": {},
   "outputs": [
    {
     "name": "stdout",
     "output_type": "stream",
     "text": [
      "Positive Feedback Count: 3\n",
      "User Feedback:\n",
      "- Great service!\n",
      "- Very satisfied\n",
      "- Could be better\n",
      "- Excellent experience\n",
      "- Not happy with the service\n"
     ]
    }
   ],
   "source": [
    "# Collecting user feedback\n",
    "feedback = [\"Great service!\", \"Very satisfied\", \"Could be better\", \"Excellent experience\"]\n",
    "\n",
    "# Adding new feedback\n",
    "feedback.append(\"Not happy with the service\")\n",
    "\n",
    "# Counting specific feedback\n",
    "positive_feedback_count = sum(1 for comment in feedback if \"great\" in comment.lower() or \"excellent\" in comment.lower() or \"satisfied\" in comment.lower())\n",
    "print(f\"Positive Feedback Count: {positive_feedback_count}\")\n",
    "\n",
    "# Printing all feedback\n",
    "print(\"User Feedback:\")\n",
    "for comment in feedback:\n",
    "    print(f\"- {comment}\")"
   ]
  }
 ],
 "metadata": {
  "kernelspec": {
   "display_name": "Python 3",
   "language": "python",
   "name": "python3"
  },
  "language_info": {
   "codemirror_mode": {
    "name": "ipython",
    "version": 3
   },
   "file_extension": ".py",
   "mimetype": "text/x-python",
   "name": "python",
   "nbconvert_exporter": "python",
   "pygments_lexer": "ipython3",
   "version": "3.12.5"
  }
 },
 "nbformat": 4,
 "nbformat_minor": 2
}

{
 "cells": [
  {
   "cell_type": "code",
   "execution_count": 1,
   "metadata": {},
   "outputs": [],
   "source": [
    "import random"
   ]
  },
  {
   "cell_type": "code",
   "execution_count": 2,
   "metadata": {},
   "outputs": [],
   "source": [
    "options = [\"Snake\", \"Water\", \"Gun\"]\n",
    "result = [0, 0, 0]"
   ]
  },
  {
   "cell_type": "code",
   "execution_count": 3,
   "metadata": {},
   "outputs": [],
   "source": [
    "def userInput():\n",
    "    user_input = input(\"Enter your move (type \\\"Exit\\\" to end game): \")\n",
    "    return user_input"
   ]
  },
  {
   "cell_type": "code",
   "execution_count": 5,
   "metadata": {},
   "outputs": [],
   "source": [
    "def selectMove():\n",
    "    move = random.choice(options)\n",
    "    return move"
   ]
  },
  {
   "cell_type": "code",
   "execution_count": 6,
   "metadata": {},
   "outputs": [],
   "source": [
    "def printScore():\n",
    "    print(f\"Score: \\nYou: {result[0]}\\nCPU: {result[1]}\\nDraw: {result[2]}\")"
   ]
  },
  {
   "cell_type": "code",
   "execution_count": 7,
   "metadata": {},
   "outputs": [],
   "source": [
    "def userInput():\n",
    "    user_input = input(\"Enter your move (type \\\"Exit\\\" to end game): \")\n",
    "    return user_input"
   ]
  },
  {
   "cell_type": "code",
   "execution_count": 8,
   "metadata": {},
   "outputs": [],
   "source": [
    "def findWinner(cpu_move, user_input):\n",
    "    if user_input in options:\n",
    "        \n",
    "        if cpu_move == user_input:\n",
    "            result[2] += 1\n",
    "            print(\"It is a draw!\")\n",
    "            printScore()\n",
    "            \n",
    "        elif user_input == \"Snake\":\n",
    "            if cpu_move == \"Water\":\n",
    "                print(\"You won!\")\n",
    "                result[0] += 1\n",
    "                printScore()\n",
    "            if cpu_move == \"Gun\":\n",
    "                print(\"You Lost!\")\n",
    "                result[1] += 1\n",
    "                printScore()\n",
    "                \n",
    "        elif user_input == \"Water\":\n",
    "            if cpu_move == \"Gun\":\n",
    "                print(\"You won!\")\n",
    "                result[0] += 1\n",
    "                printScore()\n",
    "            if cpu_move == \"Snake\":\n",
    "                print(\"You Lost\")\n",
    "                result[1] += 1\n",
    "                printScore()\n",
    "                \n",
    "        elif user_input == \"Gun\":\n",
    "            if cpu_move == \"Snake\":\n",
    "                print(\"You won\")\n",
    "                result[0] += 1\n",
    "                printScore()\n",
    "            if cpu_move == \"Water\":\n",
    "                print(\"You Lost\")\n",
    "                result[1] += 1\n",
    "                printScore()"
   ]
  },
  {
   "cell_type": "code",
   "execution_count": 10,
   "metadata": {},
   "outputs": [
    {
     "name": "stdout",
     "output_type": "stream",
     "text": [
      "CPU move: Gun\n",
      "You Lost!\n",
      "Score: \n",
      "You: 0\n",
      "CPU: 1\n",
      "Draw: 0\n",
      "CPU move: Snake\n",
      "CPU move: Water\n",
      "CPU move: Gun\n",
      "CPU move: Snake\n",
      "CPU move: Gun\n",
      "CPU move: Snake\n",
      "CPU move: Snake\n",
      "CPU move: Snake\n"
     ]
    },
    {
     "ename": "",
     "evalue": "",
     "output_type": "error",
     "traceback": [
      "\u001b[1;31mThe Kernel crashed while executing code in the current cell or a previous cell. \n",
      "\u001b[1;31mPlease review the code in the cell(s) to identify a possible cause of the failure. \n",
      "\u001b[1;31mClick <a href='https://aka.ms/vscodeJupyterKernelCrash'>here</a> for more info. \n",
      "\u001b[1;31mView Jupyter <a href='command:jupyter.viewOutput'>log</a> for further details."
     ]
    }
   ],
   "source": [
    "if __name__ == \"__main__\":\n",
    "    options = [\"Snake\", \"Water\", \"Gun\"]\n",
    "    result = [0, 0, 0]\n",
    "    while True:    \n",
    "        user_input = userInput()\n",
    "        if user_input == \"Exit\":\n",
    "            raise SystemExit(\"Exiting the program.\")\n",
    "        cpu_move = selectMove()\n",
    "        print(f\"CPU move: {cpu_move}\")\n",
    "        findWinner(cpu_move, user_input)\n"
   ]
  },
  {
   "cell_type": "code",
   "execution_count": null,
   "metadata": {},
   "outputs": [],
   "source": []
  }
 ],
 "metadata": {
  "kernelspec": {
   "display_name": "Python 3",
   "language": "python",
   "name": "python3"
  },
  "language_info": {
   "codemirror_mode": {
    "name": "ipython",
    "version": 3
   },
   "file_extension": ".py",
   "mimetype": "text/x-python",
   "name": "python",
   "nbconvert_exporter": "python",
   "pygments_lexer": "ipython3",
   "version": "3.12.5"
  }
 },
 "nbformat": 4,
 "nbformat_minor": 2
}

{
 "cells": [
  {
   "cell_type": "markdown",
   "metadata": {},
   "source": [
    "### `if-else` Statements\n",
    "\n",
    "The `if-else` statement is used to execute code based on a condition. If the condition is `True`, the `if` block is executed; otherwise, the `else` block is executed."
   ]
  },
  {
   "cell_type": "markdown",
   "metadata": {},
   "source": [
    "#### Syntax\n",
    "\n",
    "```python\n",
    "if condition:\n",
    "    # code block to be executed if condition is true\n",
    "else:\n",
    "    # code block to be executed if condition is false\n",
    "```"
   ]
  },
  {
   "cell_type": "markdown",
   "metadata": {},
   "source": [
    "### Examples and Usage\n",
    "\n",
    "#### Basic `if-else` Statement"
   ]
  },
  {
   "cell_type": "code",
   "execution_count": 1,
   "metadata": {},
   "outputs": [
    {
     "name": "stdout",
     "output_type": "stream",
     "text": [
      "a is less than or equal to b\n"
     ]
    }
   ],
   "source": [
    "a = 10\n",
    "b = 20\n",
    "\n",
    "if a > b:\n",
    "    print(\"a is greater than b\")\n",
    "else:\n",
    "    print(\"a is less than or equal to b\")\n",
    "# Output: a is less than or equal to b"
   ]
  },
  {
   "cell_type": "markdown",
   "metadata": {},
   "source": [
    "#### `if-elif-else` Statement\n",
    "\n",
    "The `elif` keyword is used to check multiple conditions."
   ]
  },
  {
   "cell_type": "code",
   "execution_count": 2,
   "metadata": {},
   "outputs": [
    {
     "name": "stdout",
     "output_type": "stream",
     "text": [
      "Grade: B\n"
     ]
    }
   ],
   "source": [
    "score = 85\n",
    "\n",
    "if score >= 90:\n",
    "    print(\"Grade: A\")\n",
    "elif score >= 80:\n",
    "    print(\"Grade: B\")\n",
    "elif score >= 70:\n",
    "    print(\"Grade: C\")\n",
    "elif score >= 60:\n",
    "    print(\"Grade: D\")\n",
    "else:\n",
    "    print(\"Grade: F\")\n",
    "# Output: Grade: B"
   ]
  },
  {
   "cell_type": "markdown",
   "metadata": {},
   "source": [
    "#### Nested `if-else` Statements\n",
    "\n",
    "You can nest `if-else` statements inside other `if-else` statements."
   ]
  },
  {
   "cell_type": "code",
   "execution_count": 3,
   "metadata": {},
   "outputs": [
    {
     "name": "stdout",
     "output_type": "stream",
     "text": [
      "x is a multiple of y\n"
     ]
    }
   ],
   "source": [
    "x = 10\n",
    "y = 5\n",
    "\n",
    "if x > y:\n",
    "    if x % y == 0:\n",
    "        print(\"x is a multiple of y\")\n",
    "    else:\n",
    "        print(\"x is greater than y but not a multiple of y\")\n",
    "else:\n",
    "    print(\"x is less than or equal to y\")\n",
    "# Output: x is a multiple of y"
   ]
  },
  {
   "cell_type": "markdown",
   "metadata": {},
   "source": [
    "#### Using Logical Operators\n",
    "\n",
    "Logical operators `and`, `or`, and `not` can be used to combine multiple conditions."
   ]
  },
  {
   "cell_type": "code",
   "execution_count": 4,
   "metadata": {},
   "outputs": [
    {
     "name": "stdout",
     "output_type": "stream",
     "text": [
      "Eligible to vote\n"
     ]
    }
   ],
   "source": [
    "age = 25\n",
    "country = 'USA'\n",
    "\n",
    "if age >= 18 and country == 'USA':\n",
    "    print(\"Eligible to vote\")\n",
    "else:\n",
    "    print(\"Not eligible to vote\")"
   ]
  },
  {
   "cell_type": "markdown",
   "metadata": {},
   "source": [
    "#### Comparing Multiple Conditions"
   ]
  },
  {
   "cell_type": "code",
   "execution_count": 5,
   "metadata": {},
   "outputs": [
    {
     "name": "stdout",
     "output_type": "stream",
     "text": [
      "Odd\n"
     ]
    }
   ],
   "source": [
    "num = 15\n",
    "\n",
    "if num % 2 == 0:\n",
    "    print(\"Even\")\n",
    "else:\n",
    "    print(\"Odd\")\n",
    "# Output: Odd"
   ]
  },
  {
   "cell_type": "markdown",
   "metadata": {},
   "source": [
    "#### Using `if-else` in Functions"
   ]
  },
  {
   "cell_type": "code",
   "execution_count": 6,
   "metadata": {},
   "outputs": [
    {
     "name": "stdout",
     "output_type": "stream",
     "text": [
      "Positive\n",
      "Negative\n",
      "Zero\n"
     ]
    }
   ],
   "source": [
    "def check_number(num):\n",
    "    if num > 0:\n",
    "        return \"Positive\"\n",
    "    elif num < 0:\n",
    "        return \"Negative\"\n",
    "    else:\n",
    "        return \"Zero\"\n",
    "\n",
    "print(check_number(10))  # Output: Positive\n",
    "print(check_number(-5))  # Output: Negative\n",
    "print(check_number(0))   # Output: Zero"
   ]
  },
  {
   "cell_type": "markdown",
   "metadata": {},
   "source": [
    "#### Using `if-else` with Lists"
   ]
  },
  {
   "cell_type": "code",
   "execution_count": 7,
   "metadata": {},
   "outputs": [
    {
     "name": "stdout",
     "output_type": "stream",
     "text": [
      "3 is in the list\n"
     ]
    }
   ],
   "source": [
    "numbers = [1, 2, 3, 4, 5]\n",
    "target = 3\n",
    "\n",
    "if target in numbers:\n",
    "    print(f\"{target} is in the list\")\n",
    "else:\n",
    "    print(f\"{target} is not in the list\")\n",
    "# Output: 3 is in the list"
   ]
  },
  {
   "cell_type": "markdown",
   "metadata": {},
   "source": [
    "#### `if-else` with Dictionaries"
   ]
  },
  {
   "cell_type": "code",
   "execution_count": 8,
   "metadata": {},
   "outputs": [
    {
     "name": "stdout",
     "output_type": "stream",
     "text": [
      "Name: Alice\n"
     ]
    }
   ],
   "source": [
    "person = {'name': 'Alice', 'age': 30}\n",
    "\n",
    "if 'name' in person:\n",
    "    print(f\"Name: {person['name']}\")\n",
    "else:\n",
    "    print(\"Name not found\")\n",
    "# Output: Name: Alice"
   ]
  },
  {
   "cell_type": "markdown",
   "metadata": {},
   "source": [
    "#### `if-else` with Sets"
   ]
  },
  {
   "cell_type": "code",
   "execution_count": 9,
   "metadata": {},
   "outputs": [
    {
     "name": "stdout",
     "output_type": "stream",
     "text": [
      "Banana is in the set\n"
     ]
    }
   ],
   "source": [
    "fruits = {'apple', 'banana', 'cherry'}\n",
    "\n",
    "if 'banana' in fruits:\n",
    "    print(\"Banana is in the set\")\n",
    "else:\n",
    "    print(\"Banana is not in the set\")\n",
    "# Output: Banana is in the set"
   ]
  },
  {
   "cell_type": "markdown",
   "metadata": {},
   "source": [
    "#### `if-else` with Tuples"
   ]
  },
  {
   "cell_type": "code",
   "execution_count": 10,
   "metadata": {},
   "outputs": [
    {
     "name": "stdout",
     "output_type": "stream",
     "text": [
      "3 is in the tuple\n"
     ]
    }
   ],
   "source": [
    "tuple1 = (1, 2, 3, 4)\n",
    "\n",
    "if 3 in tuple1:\n",
    "    print(\"3 is in the tuple\")\n",
    "else:\n",
    "    print(\"3 is not in the tuple\")\n",
    "# Output: 3 is in the tuple"
   ]
  },
  {
   "cell_type": "markdown",
   "metadata": {},
   "source": [
    "#### `if-else` in List Comprehensions"
   ]
  },
  {
   "cell_type": "code",
   "execution_count": 11,
   "metadata": {},
   "outputs": [
    {
     "name": "stdout",
     "output_type": "stream",
     "text": [
      "['Odd', 'Even', 'Odd', 'Even', 'Odd']\n"
     ]
    }
   ],
   "source": [
    "numbers = [1, 2, 3, 4, 5]\n",
    "\n",
    "# List of even or odd labels\n",
    "labels = ['Even' if num % 2 == 0 else 'Odd' for num in numbers]\n",
    "print(labels)  # Output: ['Odd', 'Even', 'Odd', 'Even', 'Odd']"
   ]
  },
  {
   "cell_type": "markdown",
   "metadata": {},
   "source": [
    "#### Using `if-else` with File I/O"
   ]
  },
  {
   "cell_type": "code",
   "execution_count": 12,
   "metadata": {},
   "outputs": [
    {
     "name": "stdout",
     "output_type": "stream",
     "text": [
      "example.txt not found\n"
     ]
    }
   ],
   "source": [
    "filename = 'example.txt'\n",
    "\n",
    "try:\n",
    "    with open(filename, 'r') as file:\n",
    "        content = file.read()\n",
    "        print(content)\n",
    "except FileNotFoundError:\n",
    "    print(f\"{filename} not found\")\n",
    "# Output: Depends on the existence of 'example.txt'"
   ]
  },
  {
   "cell_type": "markdown",
   "metadata": {},
   "source": [
    "### Summary\n",
    "\n",
    "- **Basic Syntax**: Use `if-else` to execute code based on a condition.\n",
    "- **Multiple Conditions**: Use `elif` for multiple conditions.\n",
    "- **Nested Statements**: Nest `if-else` statements for complex conditions.\n",
    "- **Logical Operators**: Use `and`, `or`, and `not` to combine conditions.\n",
    "- **Various Uses**: Apply `if-else` in functions, lists, dictionaries, sets, and more.\n",
    "- **List Comprehensions**: Use `if-else` for concise conditional logic in comprehensions.\n",
    "- **File I/O**: Handle file operations conditionally.\n",
    "\n",
    "`if-else` statements are fundamental in Python for controlling the flow of your program based on conditions. They are versatile and can be used in a variety of scenarios, from basic comparisons to complex logic involving multiple conditions."
   ]
  }
 ],
 "metadata": {
  "kernelspec": {
   "display_name": "Python 3",
   "language": "python",
   "name": "python3"
  },
  "language_info": {
   "codemirror_mode": {
    "name": "ipython",
    "version": 3
   },
   "file_extension": ".py",
   "mimetype": "text/x-python",
   "name": "python",
   "nbconvert_exporter": "python",
   "pygments_lexer": "ipython3",
   "version": "3.12.5"
  }
 },
 "nbformat": 4,
 "nbformat_minor": 2
}

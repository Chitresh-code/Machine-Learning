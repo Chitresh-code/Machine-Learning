{
 "cells": [
  {
   "cell_type": "markdown",
   "metadata": {},
   "source": [
    "**Concept of Strings**"
   ]
  },
  {
   "cell_type": "markdown",
   "metadata": {},
   "source": [
    "Definition of Srtings"
   ]
  },
  {
   "cell_type": "code",
   "execution_count": 1,
   "metadata": {},
   "outputs": [],
   "source": [
    "# Defining strings\n",
    "str1 = 'Single quoted string'  # Single-quoted string\n",
    "str2 = \"Double quoted string\"  # Double-quoted string\n",
    "str3 = '''Triple quoted String'''  # Triple-quoted string"
   ]
  },
  {
   "cell_type": "code",
   "execution_count": 2,
   "metadata": {},
   "outputs": [
    {
     "name": "stdout",
     "output_type": "stream",
     "text": [
      "Single quoted string\n",
      "Double quoted string\n",
      "Triple quoted String\n"
     ]
    }
   ],
   "source": [
    "# Printing strings\n",
    "print(str1)  # Output: Single quoted string\n",
    "print(str2)  # Output: Double quoted string\n",
    "print(str3)  # Output: Triple quoted String"
   ]
  },
  {
   "cell_type": "markdown",
   "metadata": {},
   "source": [
    "String Slicing"
   ]
  },
  {
   "cell_type": "code",
   "execution_count": 3,
   "metadata": {},
   "outputs": [
    {
     "name": "stdout",
     "output_type": "stream",
     "text": [
      "Length of the string: 8\n"
     ]
    }
   ],
   "source": [
    "# String slicing\n",
    "name = \"Chitresh\"\n",
    "length = len(name)  # Length of the string\n",
    "print(\"Length of the string:\", length)  # Output: 8"
   ]
  },
  {
   "cell_type": "markdown",
   "metadata": {},
   "source": [
    "String has 2 types of indexing<br>\n",
    "Forward Indexing -> 0 to len-1<br>\n",
    "Reverse Indexing -> -len to -1<br>"
   ]
  },
  {
   "cell_type": "code",
   "execution_count": 4,
   "metadata": {},
   "outputs": [
    {
     "name": "stdout",
     "output_type": "stream",
     "text": [
      "Chit\n"
     ]
    }
   ],
   "source": [
    "# String slicing -> string[first_index : last_index]\n",
    "# Here, first_index is included and last_index is not included\n",
    "print(name[0:4])  # Prints characters from index 0 to index 3 from string 'name'\n",
    "# Output: Chit"
   ]
  },
  {
   "cell_type": "code",
   "execution_count": 5,
   "metadata": {},
   "outputs": [
    {
     "name": "stdout",
     "output_type": "stream",
     "text": [
      "hse\n"
     ]
    }
   ],
   "source": [
    "# Reverse indexing example\n",
    "# Note: Reverse slicing with a negative step value is required for expected output\n",
    "print(name[-1:-4:-1])  # Prints characters in reverse from index -1 to index -4\n",
    "# Output: hse"
   ]
  },
  {
   "cell_type": "code",
   "execution_count": 6,
   "metadata": {},
   "outputs": [
    {
     "name": "stdout",
     "output_type": "stream",
     "text": [
      "Cirs\n"
     ]
    }
   ],
   "source": [
    "# Slicing string with skip value\n",
    "# string[first_index : last_index : skip_count]\n",
    "print(name[0 : length : 2])  # Prints every second character from the string 'name'\n",
    "# Output: Cies"
   ]
  },
  {
   "cell_type": "markdown",
   "metadata": {},
   "source": [
    "String functions"
   ]
  },
  {
   "cell_type": "code",
   "execution_count": 7,
   "metadata": {},
   "outputs": [],
   "source": [
    "str = \"hello World\""
   ]
  },
  {
   "cell_type": "code",
   "execution_count": 8,
   "metadata": {},
   "outputs": [
    {
     "name": "stdout",
     "output_type": "stream",
     "text": [
      "Length of the string: 11\n"
     ]
    }
   ],
   "source": [
    "# len(string_name) -> returns the length of the string\n",
    "l = len(str)  # Output: 11\n",
    "print(\"Length of the string:\", l)  # Output: Length of the string: 11"
   ]
  },
  {
   "cell_type": "code",
   "execution_count": 9,
   "metadata": {},
   "outputs": [
    {
     "name": "stdout",
     "output_type": "stream",
     "text": [
      "True\n"
     ]
    }
   ],
   "source": [
    "# string_name.endswith(\"substring\") -> returns a boolean indicating if the string ends with the specified substring\n",
    "print(str.endswith(\"ld\"))  # Output: True"
   ]
  },
  {
   "cell_type": "code",
   "execution_count": 10,
   "metadata": {},
   "outputs": [
    {
     "name": "stdout",
     "output_type": "stream",
     "text": [
      "3\n"
     ]
    }
   ],
   "source": [
    "# string_name.count(\"substring\") -> counts the total occurrence of the substring in the string\n",
    "print(str.count('l'))  # Output: 3"
   ]
  },
  {
   "cell_type": "code",
   "execution_count": 11,
   "metadata": {},
   "outputs": [
    {
     "name": "stdout",
     "output_type": "stream",
     "text": [
      "Hello world\n"
     ]
    }
   ],
   "source": [
    "# string_name.capitalize() -> returns a copy of the string with the first character capitalized and the rest lowercased\n",
    "print(str.capitalize())  # Output: Hello world"
   ]
  },
  {
   "cell_type": "code",
   "execution_count": 12,
   "metadata": {},
   "outputs": [
    {
     "name": "stdout",
     "output_type": "stream",
     "text": [
      "5\n"
     ]
    }
   ],
   "source": [
    "# string_name.find('substring') -> returns the index of the first occurrence of the substring; returns -1 if not found\n",
    "print(str.find(' Wo'))  # Output: 5"
   ]
  },
  {
   "cell_type": "code",
   "execution_count": 13,
   "metadata": {},
   "outputs": [
    {
     "name": "stdout",
     "output_type": "stream",
     "text": [
      "hecco Worcd\n"
     ]
    }
   ],
   "source": [
    "# string_name.replace('old_substring', 'new_substring') -> returns a copy of the string with all occurrences of old_substring replaced by new_substring\n",
    "new_str = str.replace('l', 'c')\n",
    "print(new_str)  # Output: hecco Worcd"
   ]
  },
  {
   "cell_type": "markdown",
   "metadata": {},
   "source": [
    "Additional string functions"
   ]
  },
  {
   "cell_type": "code",
   "execution_count": 14,
   "metadata": {},
   "outputs": [
    {
     "name": "stdout",
     "output_type": "stream",
     "text": [
      "HELLO WORLD\n"
     ]
    }
   ],
   "source": [
    "# string_name.upper() -> converts all characters in the string to uppercase\n",
    "print(str.upper())  # Output: HELLO WORLD"
   ]
  },
  {
   "cell_type": "code",
   "execution_count": 15,
   "metadata": {},
   "outputs": [
    {
     "name": "stdout",
     "output_type": "stream",
     "text": [
      "hello world\n"
     ]
    }
   ],
   "source": [
    "# string_name.lower() -> converts all characters in the string to lowercase\n",
    "print(str.lower())  # Output: hello world"
   ]
  },
  {
   "cell_type": "code",
   "execution_count": 16,
   "metadata": {},
   "outputs": [
    {
     "name": "stdout",
     "output_type": "stream",
     "text": [
      "Hello World\n"
     ]
    }
   ],
   "source": [
    "# string_name.title() -> converts the first character of each word to uppercase\n",
    "print(str.title())  # Output: Hello World"
   ]
  },
  {
   "cell_type": "code",
   "execution_count": 17,
   "metadata": {},
   "outputs": [
    {
     "name": "stdout",
     "output_type": "stream",
     "text": [
      "hello World\n"
     ]
    }
   ],
   "source": [
    "# string_name.strip() -> removes leading and trailing whitespace\n",
    "str_with_spaces = \"   hello World   \"\n",
    "print(str_with_spaces.strip())  # Output: hello World"
   ]
  },
  {
   "cell_type": "code",
   "execution_count": 18,
   "metadata": {},
   "outputs": [
    {
     "name": "stdout",
     "output_type": "stream",
     "text": [
      "hello World   \n"
     ]
    }
   ],
   "source": [
    "# string_name.lstrip() -> removes leading whitespace\n",
    "print(str_with_spaces.lstrip())  # Output: hello World   "
   ]
  },
  {
   "cell_type": "code",
   "execution_count": 19,
   "metadata": {},
   "outputs": [
    {
     "name": "stdout",
     "output_type": "stream",
     "text": [
      "   hello World\n"
     ]
    }
   ],
   "source": [
    "# string_name.rstrip() -> removes trailing whitespace\n",
    "print(str_with_spaces.rstrip())  # Output:    hello World"
   ]
  },
  {
   "cell_type": "code",
   "execution_count": 20,
   "metadata": {},
   "outputs": [
    {
     "name": "stdout",
     "output_type": "stream",
     "text": [
      "['hello', 'World']\n"
     ]
    }
   ],
   "source": [
    "# string_name.split(separator) -> splits the string into a list using the specified separator\n",
    "print(str.split(' '))  # Output: ['hello', 'World']"
   ]
  },
  {
   "cell_type": "code",
   "execution_count": 21,
   "metadata": {},
   "outputs": [
    {
     "name": "stdout",
     "output_type": "stream",
     "text": [
      "hello World\n"
     ]
    }
   ],
   "source": [
    "# string_name.join(iterable) -> joins elements of an iterable with the string as a separator\n",
    "words = ['hello', 'World']\n",
    "print(' '.join(words))  # Output: hello World"
   ]
  },
  {
   "cell_type": "code",
   "execution_count": 22,
   "metadata": {},
   "outputs": [
    {
     "name": "stdout",
     "output_type": "stream",
     "text": [
      "True\n"
     ]
    }
   ],
   "source": [
    "# string_name.isalpha() -> returns True if all characters in the string are alphabetic\n",
    "print(name.isalpha())  # Output: True"
   ]
  },
  {
   "cell_type": "code",
   "execution_count": 23,
   "metadata": {},
   "outputs": [
    {
     "name": "stdout",
     "output_type": "stream",
     "text": [
      "True\n"
     ]
    }
   ],
   "source": [
    "# string_name.isdigit() -> returns True if all characters in the string are digits\n",
    "num_str = \"12345\"\n",
    "print(num_str.isdigit())  # Output: True"
   ]
  },
  {
   "cell_type": "code",
   "execution_count": 24,
   "metadata": {},
   "outputs": [
    {
     "name": "stdout",
     "output_type": "stream",
     "text": [
      "True\n"
     ]
    }
   ],
   "source": [
    "# string_name.isalnum() -> returns True if all characters in the string are alphanumeric\n",
    "alnum_str = \"Chitresh123\"\n",
    "print(alnum_str.isalnum())  # Output: True"
   ]
  },
  {
   "cell_type": "code",
   "execution_count": 25,
   "metadata": {},
   "outputs": [
    {
     "name": "stdout",
     "output_type": "stream",
     "text": [
      "True\n"
     ]
    }
   ],
   "source": [
    "# string_name.isspace() -> returns True if all characters in the string are whitespace\n",
    "space_str = \"   \"\n",
    "print(space_str.isspace())  # Output: True"
   ]
  },
  {
   "cell_type": "code",
   "execution_count": 26,
   "metadata": {},
   "outputs": [
    {
     "name": "stdout",
     "output_type": "stream",
     "text": [
      "True\n"
     ]
    }
   ],
   "source": [
    "# string_name.startswith('substring') -> returns True if the string starts with the specified substring\n",
    "print(str.startswith('he'))  # Output: True"
   ]
  },
  {
   "cell_type": "code",
   "execution_count": 27,
   "metadata": {},
   "outputs": [
    {
     "name": "stdout",
     "output_type": "stream",
     "text": [
      "Hello, Chitresh. Welcome to Python.\n"
     ]
    }
   ],
   "source": [
    "# string_name.format() -> formats the string using placeholders\n",
    "formatted_str = \"Hello, {}. Welcome to {}.\".format(\"Chitresh\", \"Python\")\n",
    "print(formatted_str)  # Output: Hello, Chitresh. Welcome to Python."
   ]
  },
  {
   "cell_type": "code",
   "execution_count": 28,
   "metadata": {},
   "outputs": [
    {
     "name": "stdout",
     "output_type": "stream",
     "text": [
      "Hello, Chitresh. Welcome to Python.\n"
     ]
    }
   ],
   "source": [
    "# string_name.format_map(mapping) -> formats the string using a mapping\n",
    "mapping = {'name': 'Chitresh', 'language': 'Python'}\n",
    "formatted_str_map = \"Hello, {name}. Welcome to {language}.\".format_map(mapping)\n",
    "print(formatted_str_map)  # Output: Hello, Chitresh. Welcome to Python."
   ]
  },
  {
   "cell_type": "code",
   "execution_count": 29,
   "metadata": {},
   "outputs": [
    {
     "name": "stdout",
     "output_type": "stream",
     "text": [
      "False\n"
     ]
    }
   ],
   "source": [
    "# string_name.islower() -> returns True if all characters in the string are lowercase\n",
    "print(str.islower())  # Output: False"
   ]
  },
  {
   "cell_type": "code",
   "execution_count": 30,
   "metadata": {},
   "outputs": [
    {
     "name": "stdout",
     "output_type": "stream",
     "text": [
      "False\n"
     ]
    }
   ],
   "source": [
    "# string_name.isupper() -> returns True if all characters in the string are uppercase\n",
    "print(str.isupper())  # Output: False"
   ]
  },
  {
   "cell_type": "code",
   "execution_count": 31,
   "metadata": {},
   "outputs": [
    {
     "name": "stdout",
     "output_type": "stream",
     "text": [
      "HELLO wORLD\n"
     ]
    }
   ],
   "source": [
    "# string_name.swapcase() -> swaps case of all characters in the string\n",
    "print(str.swapcase())  # Output: HELLO wORLD"
   ]
  },
  {
   "cell_type": "code",
   "execution_count": 32,
   "metadata": {},
   "outputs": [
    {
     "name": "stdout",
     "output_type": "stream",
     "text": [
      "00042\n"
     ]
    }
   ],
   "source": [
    "# string_name.zfill(width) -> pads the string on the left with zeros to fill the specified width\n",
    "num_str = \"42\"\n",
    "print(num_str.zfill(5))  # Output: 00042"
   ]
  },
  {
   "cell_type": "code",
   "execution_count": 33,
   "metadata": {},
   "outputs": [
    {
     "name": "stdout",
     "output_type": "stream",
     "text": [
      "----hello World-----\n"
     ]
    }
   ],
   "source": [
    "# string_name.center(width, fillchar) -> centers the string and fills the rest with the specified character\n",
    "print(str.center(20, '-'))  # Output: ----hello World-----"
   ]
  },
  {
   "cell_type": "code",
   "execution_count": 34,
   "metadata": {},
   "outputs": [
    {
     "name": "stdout",
     "output_type": "stream",
     "text": [
      "hello World---------\n"
     ]
    }
   ],
   "source": [
    "# string_name.ljust(width, fillchar) -> left justifies the string and fills the rest with the specified character\n",
    "print(str.ljust(20, '-'))  # Output: hello World---------"
   ]
  },
  {
   "cell_type": "code",
   "execution_count": 35,
   "metadata": {},
   "outputs": [
    {
     "name": "stdout",
     "output_type": "stream",
     "text": [
      "---------hello World\n"
     ]
    }
   ],
   "source": [
    "# string_name.rjust(width, fillchar) -> right justifies the string and fills the rest with the specified character\n",
    "print(str.rjust(20, '-'))  # Output: ---------hello World"
   ]
  },
  {
   "cell_type": "code",
   "execution_count": 36,
   "metadata": {},
   "outputs": [
    {
     "name": "stdout",
     "output_type": "stream",
     "text": [
      "('hello', ' ', 'World')\n"
     ]
    }
   ],
   "source": [
    "# string_name.partition('substring') -> splits the string at the first occurrence of the substring into a tuple\n",
    "print(str.partition(' '))  # Output: ('hello', ' ', 'World')"
   ]
  },
  {
   "cell_type": "code",
   "execution_count": 37,
   "metadata": {},
   "outputs": [
    {
     "name": "stdout",
     "output_type": "stream",
     "text": [
      "('hello', ' ', 'World')\n"
     ]
    }
   ],
   "source": [
    "# string_name.rpartition('substring') -> splits the string at the last occurrence of the substring into a tuple\n",
    "print(str.rpartition(' '))  # Output: ('hello', ' ', 'World')"
   ]
  }
 ],
 "metadata": {
  "kernelspec": {
   "display_name": "Python 3",
   "language": "python",
   "name": "python3"
  },
  "language_info": {
   "codemirror_mode": {
    "name": "ipython",
    "version": 3
   },
   "file_extension": ".py",
   "mimetype": "text/x-python",
   "name": "python",
   "nbconvert_exporter": "python",
   "pygments_lexer": "ipython3",
   "version": "3.12.5"
  }
 },
 "nbformat": 4,
 "nbformat_minor": 2
}

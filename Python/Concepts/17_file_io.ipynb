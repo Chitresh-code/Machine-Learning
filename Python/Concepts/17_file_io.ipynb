{
 "cells": [
  {
   "cell_type": "markdown",
   "metadata": {},
   "source": [
    "### File Handling in Python\n",
    "\n",
    "File handling allows you to create, read, write, and manipulate files on your system. Python provides built-in functions and methods for interacting with files, which are crucial for data processing and storage."
   ]
  },
  {
   "cell_type": "markdown",
   "metadata": {},
   "source": [
    "#### Basic File Operations\n",
    "\n",
    "1. **Opening a File**\n",
    "2. **Reading from a File**\n",
    "3. **Writing to a File**\n",
    "4. **Closing a File**"
   ]
  },
  {
   "cell_type": "markdown",
   "metadata": {},
   "source": [
    "### Syntax\n",
    "\n",
    "```python\n",
    "file = open('filename', 'mode')\n",
    "# Perform operations\n",
    "file.close()\n",
    "```"
   ]
  },
  {
   "cell_type": "markdown",
   "metadata": {},
   "source": [
    "### Modes for Opening Files\n",
    "\n",
    "- `'r'` : Read (default mode). Opens a file for reading.\n",
    "- `'w'` : Write. Opens a file for writing (creates a new file or truncates the existing file).\n",
    "- `'a'` : Append. Opens a file for appending (creates a new file if it does not exist).\n",
    "- `'b'` : Binary mode. For binary files (e.g., `'rb'` or `'wb'`).\n"
   ]
  },
  {
   "cell_type": "markdown",
   "metadata": {},
   "source": [
    "### Examples and Usage"
   ]
  },
  {
   "cell_type": "markdown",
   "metadata": {},
   "source": [
    "#### Opening and Closing a File"
   ]
  },
  {
   "cell_type": "code",
   "execution_count": 2,
   "metadata": {},
   "outputs": [],
   "source": [
    "# Open a file for reading\n",
    "file = open('example.txt', 'r')\n",
    "# Close the file\n",
    "file.close()"
   ]
  },
  {
   "cell_type": "markdown",
   "metadata": {},
   "source": [
    "#### Reading from a File"
   ]
  },
  {
   "cell_type": "code",
   "execution_count": 3,
   "metadata": {},
   "outputs": [
    {
     "name": "stdout",
     "output_type": "stream",
     "text": [
      "Hello my name is Chitresh\n",
      "I am a python developer\n",
      "I am also a student in B. Tech. CSE\n",
      "Hello my name is Chitresh\n",
      "\n",
      "['Hello my name is Chitresh\\n', 'I am a python developer\\n', 'I am also a student in B. Tech. CSE']\n"
     ]
    }
   ],
   "source": [
    "# Open a file for reading\n",
    "file = open('example.txt', 'r')\n",
    "\n",
    "# Read the entire file content\n",
    "content = file.read()\n",
    "print(content)\n",
    "\n",
    "# Read one line at a time\n",
    "file.seek(0)  # Reset file pointer to the beginning\n",
    "line = file.readline()\n",
    "print(line)\n",
    "\n",
    "# Read all lines as a list of strings\n",
    "file.seek(0)  # Reset file pointer to the beginning\n",
    "lines = file.readlines()\n",
    "print(lines)\n",
    "\n",
    "# Close the file\n",
    "file.close()"
   ]
  },
  {
   "cell_type": "markdown",
   "metadata": {},
   "source": [
    "#### Writing to a File"
   ]
  },
  {
   "cell_type": "code",
   "execution_count": 4,
   "metadata": {},
   "outputs": [],
   "source": [
    "# Open a file for writing\n",
    "file = open('example.txt', 'w')\n",
    "\n",
    "# Write a single line\n",
    "file.write(\"Hello, World!\\n\")\n",
    "\n",
    "# Write multiple lines\n",
    "file.writelines([\"Line 1\\n\", \"Line 2\\n\", \"Line 3\\n\"])\n",
    "\n",
    "# Close the file\n",
    "file.close()"
   ]
  },
  {
   "cell_type": "markdown",
   "metadata": {},
   "source": [
    "#### Appending to a File"
   ]
  },
  {
   "cell_type": "code",
   "execution_count": 5,
   "metadata": {},
   "outputs": [],
   "source": [
    "# Open a file for appending\n",
    "file = open('example.txt', 'a')\n",
    "\n",
    "# Append a line\n",
    "file.write(\"Appending a new line.\\n\")\n",
    "\n",
    "# Close the file\n",
    "file.close()"
   ]
  },
  {
   "cell_type": "markdown",
   "metadata": {},
   "source": [
    "#### Working with Binary Files"
   ]
  },
  {
   "cell_type": "code",
   "execution_count": 6,
   "metadata": {},
   "outputs": [
    {
     "name": "stdout",
     "output_type": "stream",
     "text": [
      "b'\\x00\\x01\\x02\\x03'\n"
     ]
    }
   ],
   "source": [
    "# Open a binary file for writing\n",
    "file = open('example.bin', 'wb')\n",
    "\n",
    "# Write binary data\n",
    "file.write(b'\\x00\\x01\\x02\\x03')\n",
    "\n",
    "# Close the file\n",
    "file.close()\n",
    "\n",
    "# Open a binary file for reading\n",
    "file = open('example.bin', 'rb')\n",
    "\n",
    "# Read binary data\n",
    "data = file.read()\n",
    "print(data)\n",
    "\n",
    "# Close the file\n",
    "file.close()"
   ]
  },
  {
   "cell_type": "markdown",
   "metadata": {},
   "source": [
    "#### Using `with` Statement\n",
    "\n",
    "The `with` statement provides a way to ensure that resources are properly managed. It automatically closes the file when the block is exited, even if an error occurs."
   ]
  },
  {
   "cell_type": "code",
   "execution_count": 7,
   "metadata": {},
   "outputs": [
    {
     "name": "stdout",
     "output_type": "stream",
     "text": [
      "Hello, World!\n",
      "Line 1\n",
      "Line 2\n",
      "Line 3\n",
      "Appending a new line.\n",
      "\n"
     ]
    }
   ],
   "source": [
    "# Using 'with' to open a file\n",
    "with open('example.txt', 'r') as file:\n",
    "    content = file.read()\n",
    "    print(content)\n",
    "# File is automatically closed when the block is exited"
   ]
  },
  {
   "cell_type": "markdown",
   "metadata": {},
   "source": [
    "#### File Paths\n",
    "\n",
    "You can use absolute or relative file paths. Absolute paths start from the root directory, while relative paths are relative to the current working directory."
   ]
  },
  {
   "cell_type": "code",
   "execution_count": 15,
   "metadata": {},
   "outputs": [],
   "source": [
    "# Absolute path\n",
    "# file = open('/path/to/file/example.txt', 'r')\n",
    "\n",
    "# Relative path\n",
    "file = open('example.txt', 'r')"
   ]
  },
  {
   "cell_type": "code",
   "execution_count": 16,
   "metadata": {},
   "outputs": [],
   "source": [
    "file.close()"
   ]
  },
  {
   "cell_type": "markdown",
   "metadata": {},
   "source": [
    "#### File Operations on Directories\n",
    "\n",
    "Python's `os` and `os.path` modules provide functionality for directory and file operations."
   ]
  },
  {
   "cell_type": "code",
   "execution_count": 11,
   "metadata": {},
   "outputs": [
    {
     "name": "stdout",
     "output_type": "stream",
     "text": [
      "[]\n"
     ]
    }
   ],
   "source": [
    "import os\n",
    "\n",
    "# Create a new directory\n",
    "os.mkdir('Examples')\n",
    "\n",
    "# List files and directories in a directory\n",
    "files = os.listdir('Examples')\n",
    "print(files)\n",
    "\n",
    "# Remove a file\n",
    "os.remove('remove.txt')\n",
    "\n",
    "# Remove a directory\n",
    "os.rmdir('Examples')"
   ]
  },
  {
   "cell_type": "markdown",
   "metadata": {},
   "source": [
    "### Create a new file"
   ]
  },
  {
   "cell_type": "code",
   "execution_count": 12,
   "metadata": {},
   "outputs": [],
   "source": [
    "import os\n",
    "\n",
    "# Define the path and filename\n",
    "file_path = 'newfile.txt'\n",
    "\n",
    "# Create a new file (this will create the file if it does not exist)\n",
    "# os.O_CREAT flag is used to create the file if it does not exist\n",
    "# os.O_WRONLY flag is used to open the file in write-only mode\n",
    "fd = os.open(file_path, os.O_CREAT | os.O_WRONLY)\n",
    "\n",
    "# Optionally, you can write to the file\n",
    "os.write(fd, b'Hello, World!\\n')\n",
    "\n",
    "# Close the file descriptor\n",
    "os.close(fd)"
   ]
  },
  {
   "cell_type": "code",
   "execution_count": 17,
   "metadata": {},
   "outputs": [],
   "source": [
    "os.remove('example.txt')\n",
    "os.remove('example.bin')\n",
    "os.remove('newfile.txt')"
   ]
  },
  {
   "cell_type": "markdown",
   "metadata": {},
   "source": [
    "### Summary\n",
    "\n",
    "- **Opening a File**: Use `open('filename', 'mode')` to open a file.\n",
    "- **Modes**:\n",
    "  - `'r'`: Read\n",
    "  - `'w'`: Write\n",
    "  - `'a'`: Append\n",
    "  - `'b'`: Binary\n",
    "- **Reading**: `file.read()`, `file.readline()`, `file.readlines()`.\n",
    "- **Writing**: `file.write()`, `file.writelines()`.\n",
    "- **Appending**: Use `'a'` mode.\n",
    "- **Binary Files**: Use `'b'` mode for binary data.\n",
    "- **Context Manager (`with` statement)**: Automatically handles file closing.\n",
    "- **File Paths**: Absolute and relative paths.\n",
    "- **Directory Operations**: Use `os` module for managing directories.\n",
    "\n",
    "File handling is essential for reading and writing data to files, allowing for persistent storage and data manipulation in Python programs."
   ]
  }
 ],
 "metadata": {
  "kernelspec": {
   "display_name": "Python 3",
   "language": "python",
   "name": "python3"
  },
  "language_info": {
   "codemirror_mode": {
    "name": "ipython",
    "version": 3
   },
   "file_extension": ".py",
   "mimetype": "text/x-python",
   "name": "python",
   "nbconvert_exporter": "python",
   "pygments_lexer": "ipython3",
   "version": "3.12.5"
  }
 },
 "nbformat": 4,
 "nbformat_minor": 2
}

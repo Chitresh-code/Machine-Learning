{
 "cells": [
  {
   "cell_type": "markdown",
   "id": "94c4e04f",
   "metadata": {},
   "source": [
    "### Functions in Python\n",
    "\n",
    "Functions are reusable blocks of code that perform a specific task. They help in making the code more organized, modular, and easier to read."
   ]
  },
  {
   "cell_type": "markdown",
   "id": "f74bda2b",
   "metadata": {},
   "source": [
    "#### Syntax\n",
    "\n",
    "```python\n",
    "def function_name(parameters):\n",
    "    \"\"\"\n",
    "    Docstring\n",
    "    \"\"\"\n",
    "    # Code block\n",
    "    return value\n",
    "```"
   ]
  },
  {
   "cell_type": "markdown",
   "id": "8b1dcfb5",
   "metadata": {},
   "source": [
    "### Examples and Usage"
   ]
  },
  {
   "cell_type": "markdown",
   "id": "c30a4950",
   "metadata": {},
   "source": [
    "#### Basic Function"
   ]
  },
  {
   "cell_type": "code",
   "execution_count": null,
   "id": "21db6dcd",
   "metadata": {},
   "outputs": [],
   "source": [
    "def greet():\n",
    "    \"\"\"\n",
    "    This function prints a greeting message.\n",
    "    \"\"\"\n",
    "    print(\"Hello, World!\")\n",
    "\n",
    "greet()  # Output: Hello, World!"
   ]
  },
  {
   "cell_type": "markdown",
   "id": "5a2fa7b0",
   "metadata": {},
   "source": [
    "#### Function with Parameters"
   ]
  },
  {
   "cell_type": "code",
   "execution_count": 1,
   "id": "c851dd19",
   "metadata": {},
   "outputs": [
    {
     "name": "stdout",
     "output_type": "stream",
     "text": [
      "Hello, Alice!\n"
     ]
    }
   ],
   "source": [
    "def greet(name):\n",
    "    \"\"\"\n",
    "    This function greets the person passed in as a parameter.\n",
    "    \"\"\"\n",
    "    print(f\"Hello, {name}!\")\n",
    "\n",
    "greet(\"Alice\")  # Output: Hello, Alice!"
   ]
  },
  {
   "cell_type": "markdown",
   "id": "8b83a73c",
   "metadata": {},
   "source": [
    "#### Function with Return Value"
   ]
  },
  {
   "cell_type": "code",
   "execution_count": 2,
   "id": "4aae33e7",
   "metadata": {},
   "outputs": [
    {
     "name": "stdout",
     "output_type": "stream",
     "text": [
      "8\n"
     ]
    }
   ],
   "source": [
    "def add(a, b):\n",
    "    \"\"\"\n",
    "    This function returns the sum of two numbers.\n",
    "    \"\"\"\n",
    "    return a + b\n",
    "\n",
    "result = add(5, 3)\n",
    "print(result)  # Output: 8"
   ]
  },
  {
   "cell_type": "markdown",
   "id": "ff2de546",
   "metadata": {},
   "source": [
    "#### Function with Default Parameters"
   ]
  },
  {
   "cell_type": "code",
   "execution_count": 3,
   "id": "1eb78280",
   "metadata": {},
   "outputs": [
    {
     "name": "stdout",
     "output_type": "stream",
     "text": [
      "Hello, World!\n",
      "Hello, Alice!\n"
     ]
    }
   ],
   "source": [
    "def greet(name=\"World\"):\n",
    "    \"\"\"\n",
    "    This function greets the person passed in as a parameter. If no name is provided, it defaults to 'World'.\n",
    "    \"\"\"\n",
    "    print(f\"Hello, {name}!\")\n",
    "\n",
    "greet()         # Output: Hello, World!\n",
    "greet(\"Alice\")  # Output: Hello, Alice!"
   ]
  },
  {
   "cell_type": "markdown",
   "id": "e879cfdf",
   "metadata": {},
   "source": [
    "#### Function with Variable-Length Arguments"
   ]
  },
  {
   "cell_type": "code",
   "execution_count": 4,
   "id": "a8ad0bd2",
   "metadata": {},
   "outputs": [
    {
     "name": "stdout",
     "output_type": "stream",
     "text": [
      "Hello, Alice!\n",
      "Hello, Bob!\n",
      "Hello, Charlie!\n"
     ]
    }
   ],
   "source": [
    "def greet(*names):\n",
    "    \"\"\"\n",
    "    This function greets multiple people passed in as arguments.\n",
    "    \"\"\"\n",
    "    for name in names:\n",
    "        print(f\"Hello, {name}!\")\n",
    "\n",
    "greet(\"Alice\", \"Bob\", \"Charlie\")\n",
    "# Output:\n",
    "# Hello, Alice!\n",
    "# Hello, Bob!\n",
    "# Hello, Charlie!"
   ]
  },
  {
   "cell_type": "markdown",
   "id": "24db98d9",
   "metadata": {},
   "source": [
    "#### Function with Keyword Arguments"
   ]
  },
  {
   "cell_type": "code",
   "execution_count": 5,
   "id": "d6c64c54",
   "metadata": {},
   "outputs": [
    {
     "name": "stdout",
     "output_type": "stream",
     "text": [
      "Name: Alice, Age: 30\n"
     ]
    }
   ],
   "source": [
    "def display_info(name, age):\n",
    "    \"\"\"\n",
    "    This function displays information about a person.\n",
    "    \"\"\"\n",
    "    print(f\"Name: {name}, Age: {age}\")\n",
    "\n",
    "display_info(name=\"Alice\", age=30)  # Output: Name: Alice, Age: 30"
   ]
  },
  {
   "cell_type": "markdown",
   "id": "8cb2df56",
   "metadata": {},
   "source": [
    "#### Function with Variable-Length Keyword Arguments"
   ]
  },
  {
   "cell_type": "code",
   "execution_count": 6,
   "id": "67fe1172",
   "metadata": {},
   "outputs": [
    {
     "name": "stdout",
     "output_type": "stream",
     "text": [
      "name: Alice\n",
      "age: 30\n",
      "city: New York\n"
     ]
    }
   ],
   "source": [
    "def display_info(**kwargs):\n",
    "    \"\"\"\n",
    "    This function displays information passed as keyword arguments.\n",
    "    \"\"\"\n",
    "    for key, value in kwargs.items():\n",
    "        print(f\"{key}: {value}\")\n",
    "\n",
    "display_info(name=\"Alice\", age=30, city=\"New York\")\n",
    "# Output:\n",
    "# name: Alice\n",
    "# age: 30\n",
    "# city: New York"
   ]
  },
  {
   "cell_type": "markdown",
   "id": "06e8d5d9",
   "metadata": {},
   "source": [
    "#### Lambda Functions\n",
    "\n",
    "Lambda functions are anonymous functions defined using the `lambda` keyword. They can have any number of parameters but only one expression."
   ]
  },
  {
   "cell_type": "code",
   "execution_count": 7,
   "id": "afff16cc",
   "metadata": {},
   "outputs": [
    {
     "name": "stdout",
     "output_type": "stream",
     "text": [
      "8\n",
      "16\n"
     ]
    }
   ],
   "source": [
    "# Lambda function to add two numbers\n",
    "add = lambda a, b: a + b\n",
    "\n",
    "print(add(5, 3))  # Output: 8\n",
    "\n",
    "# Lambda function to return the square of a number\n",
    "square = lambda x: x**2\n",
    "\n",
    "print(square(4))  # Output: 16"
   ]
  },
  {
   "cell_type": "markdown",
   "id": "0ea724d9",
   "metadata": {},
   "source": [
    "#### Functions with Docstrings\n",
    "\n",
    "Docstrings provide a convenient way to associate documentation with functions."
   ]
  },
  {
   "cell_type": "code",
   "execution_count": 8,
   "id": "5d58d1ca",
   "metadata": {},
   "outputs": [
    {
     "name": "stdout",
     "output_type": "stream",
     "text": [
      "Hello, Alice!\n",
      "\n",
      "    This function greets the person passed in as a parameter.\n",
      "\n",
      "    Parameters:\n",
      "    name (str): The name of the person to greet.\n",
      "\n",
      "    Returns:\n",
      "    None\n",
      "    \n"
     ]
    }
   ],
   "source": [
    "def greet(name):\n",
    "    \"\"\"\n",
    "    This function greets the person passed in as a parameter.\n",
    "\n",
    "    Parameters:\n",
    "    name (str): The name of the person to greet.\n",
    "\n",
    "    Returns:\n",
    "    None\n",
    "    \"\"\"\n",
    "    print(f\"Hello, {name}!\")\n",
    "\n",
    "greet(\"Alice\")  # Output: Hello, Alice!\n",
    "print(greet.__doc__)\n",
    "# Output:\n",
    "# This function greets the person passed in as a parameter.\n",
    "# Parameters:\n",
    "# name (str): The name of the person to greet.\n",
    "# Returns:\n",
    "# None"
   ]
  },
  {
   "cell_type": "markdown",
   "id": "8fbf930f",
   "metadata": {},
   "source": [
    "#### Functions as Arguments\n",
    "\n",
    "Functions can be passed as arguments to other functions."
   ]
  },
  {
   "cell_type": "code",
   "execution_count": 9,
   "id": "3fb0476f",
   "metadata": {},
   "outputs": [
    {
     "name": "stdout",
     "output_type": "stream",
     "text": [
      "10\n"
     ]
    }
   ],
   "source": [
    "def apply_function(func, value):\n",
    "    \"\"\"\n",
    "    This function applies another function to a given value.\n",
    "    \"\"\"\n",
    "    return func(value)\n",
    "\n",
    "# Function to double a number\n",
    "def double(x):\n",
    "    return x * 2\n",
    "\n",
    "result = apply_function(double, 5)\n",
    "print(result)  # Output: 10"
   ]
  },
  {
   "cell_type": "markdown",
   "id": "95126c03",
   "metadata": {},
   "source": [
    "#### Nested Functions\n",
    "\n",
    "Functions can be nested within other functions."
   ]
  },
  {
   "cell_type": "code",
   "execution_count": 10,
   "id": "db341754",
   "metadata": {},
   "outputs": [
    {
     "name": "stdout",
     "output_type": "stream",
     "text": [
      "Hello from the inner function!\n"
     ]
    }
   ],
   "source": [
    "def outer_function(text):\n",
    "    \"\"\"\n",
    "    This function contains a nested inner function.\n",
    "    \"\"\"\n",
    "    def inner_function():\n",
    "        print(text)\n",
    "\n",
    "    inner_function()\n",
    "\n",
    "outer_function(\"Hello from the inner function!\")\n",
    "# Output: Hello from the inner function!"
   ]
  },
  {
   "cell_type": "markdown",
   "id": "343c1a48",
   "metadata": {},
   "source": [
    "#### Closures\n",
    "\n",
    "A closure is a nested function that captures the state of its enclosing scope."
   ]
  },
  {
   "cell_type": "code",
   "execution_count": 11,
   "id": "bf861cdd",
   "metadata": {},
   "outputs": [
    {
     "name": "stdout",
     "output_type": "stream",
     "text": [
      "30\n"
     ]
    }
   ],
   "source": [
    "def make_multiplier(x):\n",
    "    \"\"\"\n",
    "    This function returns a closure that multiplies its input by x.\n",
    "    \"\"\"\n",
    "    def multiplier(n):\n",
    "        return x * n\n",
    "    return multiplier\n",
    "\n",
    "times_three = make_multiplier(3)\n",
    "print(times_three(10))  # Output: 30"
   ]
  },
  {
   "cell_type": "markdown",
   "id": "011c86b9",
   "metadata": {},
   "source": [
    "#### Recursive Functions\n",
    "\n",
    "A recursive function is a function that calls itself."
   ]
  },
  {
   "cell_type": "code",
   "execution_count": 12,
   "id": "161bf720",
   "metadata": {},
   "outputs": [
    {
     "name": "stdout",
     "output_type": "stream",
     "text": [
      "120\n"
     ]
    }
   ],
   "source": [
    "def factorial(n):\n",
    "    \"\"\"\n",
    "    This function returns the factorial of a number using recursion.\n",
    "    \"\"\"\n",
    "    if n == 1:\n",
    "        return 1\n",
    "    else:\n",
    "        return n * factorial(n - 1)\n",
    "\n",
    "print(factorial(5))  # Output: 120"
   ]
  },
  {
   "cell_type": "markdown",
   "id": "4bb409aa-8475-4534-af0c-e61ce094afe8",
   "metadata": {},
   "source": [
    "### Summary\n",
    "\n",
    "- **Basic Functions**: Define reusable code blocks with `def` and call them by name.\n",
    "- **Parameters**: Pass data to functions using parameters.\n",
    "  - **Default Parameters**: Provide default values for parameters.\n",
    "  - **Variable-Length Arguments**: Use `*args` for variable-length positional arguments and `**kwargs` for variable-length keyword arguments.\n",
    "- **Return Values**: Use `return` to return values from functions.\n",
    "- **Lambda Functions**: Create small, anonymous functions with `lambda`.\n",
    "- **Docstrings**: Use docstrings for documenting functions.\n",
    "- **Functions as Arguments**: Pass functions as arguments to other functions.\n",
    "- **Nested Functions**: Define functions within other functions.\n",
    "- **Closures**: Capture state with nested functions.\n",
    "- **Recursion**: Use recursion to solve problems that can be broken down into smaller, similar problems.\n",
    "\n",
    "Functions are fundamental building blocks in Python programming, providing modularity, reusability, and clarity to code."
   ]
  }
 ],
 "metadata": {
  "kernelspec": {
   "display_name": "Python 3 (ipykernel)",
   "language": "python",
   "name": "python3"
  },
  "language_info": {
   "codemirror_mode": {
    "name": "ipython",
    "version": 3
   },
   "file_extension": ".py",
   "mimetype": "text/x-python",
   "name": "python",
   "nbconvert_exporter": "python",
   "pygments_lexer": "ipython3",
   "version": "3.12.5"
  }
 },
 "nbformat": 4,
 "nbformat_minor": 5
}

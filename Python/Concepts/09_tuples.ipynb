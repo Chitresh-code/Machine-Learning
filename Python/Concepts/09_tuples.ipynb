{
 "cells": [
  {
   "cell_type": "markdown",
   "metadata": {},
   "source": [
    "**Tuples in python**"
   ]
  },
  {
   "cell_type": "markdown",
   "metadata": {},
   "source": [
    "Defining tuples"
   ]
  },
  {
   "cell_type": "code",
   "execution_count": 1,
   "metadata": {},
   "outputs": [],
   "source": [
    "tuple1 = (1, 2, 3, 4, 5)  # Tuple of integers\n",
    "tuple2 = ('a', 'b', 'c', 'd')  # Tuple of characters\n",
    "tuple3 = (1, 'a', 3.14, True)  # Tuple with mixed data types"
   ]
  },
  {
   "cell_type": "code",
   "execution_count": 2,
   "metadata": {},
   "outputs": [
    {
     "name": "stdout",
     "output_type": "stream",
     "text": [
      "(1, 2, 3, 4, 5)\n",
      "('a', 'b', 'c', 'd')\n",
      "(1, 'a', 3.14, True)\n"
     ]
    }
   ],
   "source": [
    "# Printing tuples\n",
    "print(tuple1)  # Output: (1, 2, 3, 4, 5)\n",
    "print(tuple2)  # Output: ('a', 'b', 'c', 'd')\n",
    "print(tuple3)  # Output: (1, 'a', 3.14, True)"
   ]
  },
  {
   "cell_type": "markdown",
   "metadata": {},
   "source": [
    "Tuple indexing"
   ]
  },
  {
   "cell_type": "code",
   "execution_count": 3,
   "metadata": {},
   "outputs": [
    {
     "name": "stdout",
     "output_type": "stream",
     "text": [
      "1\n",
      "d\n"
     ]
    }
   ],
   "source": [
    "# Tuple indexing\n",
    "print(tuple1[0])  # Output: 1\n",
    "print(tuple2[-1])  # Output: 'd'"
   ]
  },
  {
   "cell_type": "markdown",
   "metadata": {},
   "source": [
    "Tuple slicing"
   ]
  },
  {
   "cell_type": "code",
   "execution_count": 4,
   "metadata": {},
   "outputs": [
    {
     "name": "stdout",
     "output_type": "stream",
     "text": [
      "(2, 3)\n",
      "('a', 'b')\n",
      "(1, 3.14)\n"
     ]
    }
   ],
   "source": [
    "# Tuple slicing\n",
    "print(tuple1[1:3])  # Output: (2, 3)\n",
    "print(tuple2[:2])  # Output: ('a', 'b')\n",
    "print(tuple3[::2])  # Output: (1, 3.14)"
   ]
  },
  {
   "cell_type": "markdown",
   "metadata": {},
   "source": [
    "Tuple methods"
   ]
  },
  {
   "cell_type": "code",
   "execution_count": 5,
   "metadata": {},
   "outputs": [
    {
     "name": "stdout",
     "output_type": "stream",
     "text": [
      "Length of the tuple: 5\n"
     ]
    }
   ],
   "source": [
    "# len(tuple_name) -> returns the length of the tuple\n",
    "length = len(tuple1)  # Output: 5\n",
    "print(\"Length of the tuple:\", length)  # Output: Length of the tuple: 5"
   ]
  },
  {
   "cell_type": "code",
   "execution_count": 6,
   "metadata": {},
   "outputs": [
    {
     "name": "stdout",
     "output_type": "stream",
     "text": [
      "1\n"
     ]
    }
   ],
   "source": [
    "# tuple_name.count(element) -> returns the number of occurrences of the element\n",
    "count = tuple1.count(2)\n",
    "print(count)  # Output: 1"
   ]
  },
  {
   "cell_type": "code",
   "execution_count": 7,
   "metadata": {},
   "outputs": [
    {
     "name": "stdout",
     "output_type": "stream",
     "text": [
      "2\n"
     ]
    }
   ],
   "source": [
    "# tuple_name.index(element) -> returns the index of the first occurrence of the element\n",
    "index = tuple2.index('c')\n",
    "print(index)  # Output: 2"
   ]
  },
  {
   "cell_type": "code",
   "execution_count": 8,
   "metadata": {},
   "outputs": [
    {
     "name": "stdout",
     "output_type": "stream",
     "text": [
      "(1, 2, 3, 4, 5, 'a', 'b', 'c', 'd')\n"
     ]
    }
   ],
   "source": [
    "# Concatenation of tuples\n",
    "tuple4 = tuple1 + tuple2\n",
    "print(tuple4)  # Output: (1, 2, 3, 4, 5, 'a', 'b', 'c', 'd')"
   ]
  },
  {
   "cell_type": "code",
   "execution_count": 9,
   "metadata": {},
   "outputs": [
    {
     "name": "stdout",
     "output_type": "stream",
     "text": [
      "('a', 'b', 'c', 'd', 'a', 'b', 'c', 'd', 'a', 'b', 'c', 'd')\n"
     ]
    }
   ],
   "source": [
    "# Repeating tuples\n",
    "tuple5 = tuple2 * 3\n",
    "print(tuple5)  # Output: ('a', 'b', 'c', 'd', 'a', 'b', 'c', 'd', 'a', 'b', 'c', 'd')"
   ]
  },
  {
   "cell_type": "code",
   "execution_count": 10,
   "metadata": {},
   "outputs": [
    {
     "name": "stdout",
     "output_type": "stream",
     "text": [
      "((1, 2, 3, 4, 5), ('a', 'b', 'c', 'd'))\n"
     ]
    }
   ],
   "source": [
    "# Nested tuples\n",
    "nested_tuple = (tuple1, tuple2)\n",
    "print(nested_tuple)  # Output: ((1, 2, 3, 4, 5), ('a', 'b', 'c', 'd'))"
   ]
  },
  {
   "cell_type": "code",
   "execution_count": 11,
   "metadata": {},
   "outputs": [
    {
     "name": "stdout",
     "output_type": "stream",
     "text": [
      "a b c d\n"
     ]
    }
   ],
   "source": [
    "# Tuple unpacking\n",
    "a, b, c, d = tuple2\n",
    "print(a, b, c, d)  # Output: a b c d"
   ]
  },
  {
   "cell_type": "code",
   "execution_count": 12,
   "metadata": {},
   "outputs": [
    {
     "name": "stdout",
     "output_type": "stream",
     "text": [
      "{(1, 2): 'a', (3, 4): 'b'}\n"
     ]
    }
   ],
   "source": [
    "# Using tuples as keys in dictionaries\n",
    "tuple_key_dict = {(1, 2): \"a\", (3, 4): \"b\"}\n",
    "print(tuple_key_dict)  # Output: {(1, 2): 'a', (3, 4): 'b'}"
   ]
  },
  {
   "cell_type": "markdown",
   "metadata": {},
   "source": [
    "Additional tuple functions"
   ]
  },
  {
   "cell_type": "code",
   "execution_count": 13,
   "metadata": {},
   "outputs": [
    {
     "name": "stdout",
     "output_type": "stream",
     "text": [
      "1\n"
     ]
    }
   ],
   "source": [
    "# min(tuple_name) -> returns the smallest item in the tuple\n",
    "min_val = min(tuple1)\n",
    "print(min_val)  # Output: 1"
   ]
  },
  {
   "cell_type": "code",
   "execution_count": 14,
   "metadata": {},
   "outputs": [
    {
     "name": "stdout",
     "output_type": "stream",
     "text": [
      "5\n"
     ]
    }
   ],
   "source": [
    "# max(tuple_name) -> returns the largest item in the tuple\n",
    "max_val = max(tuple1)\n",
    "print(max_val)  # Output: 5"
   ]
  },
  {
   "cell_type": "code",
   "execution_count": 15,
   "metadata": {},
   "outputs": [
    {
     "name": "stdout",
     "output_type": "stream",
     "text": [
      "15\n"
     ]
    }
   ],
   "source": [
    "# sum(tuple_name) -> returns the sum of all items in the tuple\n",
    "sum_val = sum(tuple1)\n",
    "print(sum_val)  # Output: 15"
   ]
  },
  {
   "cell_type": "code",
   "execution_count": 16,
   "metadata": {},
   "outputs": [
    {
     "name": "stdout",
     "output_type": "stream",
     "text": [
      "(1, 2, 3, 4, 5)\n"
     ]
    }
   ],
   "source": [
    "# Converting a list to a tuple\n",
    "list1 = [1, 2, 3, 4, 5]\n",
    "tuple_from_list = tuple(list1)\n",
    "print(tuple_from_list)  # Output: (1, 2, 3, 4, 5)"
   ]
  },
  {
   "cell_type": "code",
   "execution_count": 17,
   "metadata": {},
   "outputs": [
    {
     "name": "stdout",
     "output_type": "stream",
     "text": [
      "10 20\n"
     ]
    }
   ],
   "source": [
    "# Using tuples in functions\n",
    "\n",
    "# Returning multiple values from a function\n",
    "def get_coordinates():\n",
    "    return (10, 20)\n",
    "\n",
    "x, y = get_coordinates()\n",
    "print(x, y)  # Output: 10 20"
   ]
  },
  {
   "cell_type": "code",
   "execution_count": 18,
   "metadata": {},
   "outputs": [
    {
     "name": "stdout",
     "output_type": "stream",
     "text": [
      "Index: 0, Value: 1\n",
      "Index: 1, Value: 2\n",
      "Index: 2, Value: 3\n",
      "Index: 3, Value: 4\n",
      "Index: 4, Value: 5\n"
     ]
    }
   ],
   "source": [
    "# Enumerate with tuples\n",
    "for index, value in enumerate(tuple1):\n",
    "    print(f\"Index: {index}, Value: {value}\")\n",
    "# Output:\n",
    "# Index: 0, Value: 1\n",
    "# Index: 1, Value: 2\n",
    "# Index: 2, Value: 3\n",
    "# Index: 3, Value: 4\n",
    "# Index: 4, Value: 5"
   ]
  },
  {
   "cell_type": "code",
   "execution_count": 19,
   "metadata": {},
   "outputs": [
    {
     "name": "stdout",
     "output_type": "stream",
     "text": [
      "[(1, 'a'), (2, 'b'), (3, 'c')]\n"
     ]
    }
   ],
   "source": [
    "# zip() with tuples\n",
    "list1 = [1, 2, 3]\n",
    "list2 = ['a', 'b', 'c']\n",
    "zipped = list(zip(list1, list2))\n",
    "print(zipped)  # Output: [(1, 'a'), (2, 'b'), (3, 'c')]"
   ]
  },
  {
   "cell_type": "code",
   "execution_count": 20,
   "metadata": {},
   "outputs": [
    {
     "name": "stdout",
     "output_type": "stream",
     "text": [
      "(0, 1, 4, 9, 16, 25)\n"
     ]
    }
   ],
   "source": [
    "# Tuple comprehension (using generator expression)\n",
    "# Note: There are no tuple comprehensions in Python, but you can create a generator expression and convert it to a tuple.\n",
    "tuple_gen = (x**2 for x in range(6))\n",
    "tuple_comp = tuple(tuple_gen)\n",
    "print(tuple_comp)  # Output: (0, 1, 4, 9, 16, 25)"
   ]
  }
 ],
 "metadata": {
  "kernelspec": {
   "display_name": "Python 3",
   "language": "python",
   "name": "python3"
  },
  "language_info": {
   "codemirror_mode": {
    "name": "ipython",
    "version": 3
   },
   "file_extension": ".py",
   "mimetype": "text/x-python",
   "name": "python",
   "nbconvert_exporter": "python",
   "pygments_lexer": "ipython3",
   "version": "3.12.5"
  }
 },
 "nbformat": 4,
 "nbformat_minor": 2
}

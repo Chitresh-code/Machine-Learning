{
 "cells": [
  {
   "cell_type": "markdown",
   "metadata": {},
   "source": [
    "### Conditional Expressions (Ternary Operator)\n",
    "\n",
    "A conditional expression, also known as a ternary operator, allows you to write an `if-else` statement in a single line. The syntax is:\n",
    "\n",
    "```python\n",
    "<expression1> if <condition> else <expression2>\n",
    "```"
   ]
  },
  {
   "cell_type": "markdown",
   "metadata": {},
   "source": [
    "### Examples and Usage"
   ]
  },
  {
   "cell_type": "code",
   "execution_count": 1,
   "metadata": {},
   "outputs": [
    {
     "name": "stdout",
     "output_type": "stream",
     "text": [
      "20\n"
     ]
    }
   ],
   "source": [
    "# Basic example of a conditional expression\n",
    "a = 10\n",
    "b = 20\n",
    "\n",
    "# Using a conditional expression to determine the larger number\n",
    "max_value = a if a > b else b\n",
    "print(max_value)  # Output: 20"
   ]
  },
  {
   "cell_type": "markdown",
   "metadata": {},
   "source": [
    "#### Conditional Expression in a Function"
   ]
  },
  {
   "cell_type": "code",
   "execution_count": 2,
   "metadata": {},
   "outputs": [
    {
     "name": "stdout",
     "output_type": "stream",
     "text": [
      "Minor\n",
      "Adult\n"
     ]
    }
   ],
   "source": [
    "# Using a conditional expression inside a function\n",
    "def get_status(age):\n",
    "    return 'Adult' if age >= 18 else 'Minor'\n",
    "\n",
    "print(get_status(15))  # Output: Minor\n",
    "print(get_status(20))  # Output: Adult"
   ]
  },
  {
   "cell_type": "markdown",
   "metadata": {},
   "source": [
    "#### Nested Conditional Expressions"
   ]
  },
  {
   "cell_type": "code",
   "execution_count": 3,
   "metadata": {},
   "outputs": [
    {
     "name": "stdout",
     "output_type": "stream",
     "text": [
      "B\n"
     ]
    }
   ],
   "source": [
    "# Nested conditional expressions\n",
    "score = 85\n",
    "\n",
    "# Using nested conditional expressions to determine grade\n",
    "grade = 'A' if score >= 90 else 'B' if score >= 80 else 'C' if score >= 70 else 'D' if score >= 60 else 'F'\n",
    "print(grade)  # Output: B"
   ]
  },
  {
   "cell_type": "markdown",
   "metadata": {},
   "source": [
    "#### Using Conditional Expressions with Lists"
   ]
  },
  {
   "cell_type": "code",
   "execution_count": 4,
   "metadata": {},
   "outputs": [
    {
     "name": "stdout",
     "output_type": "stream",
     "text": [
      "['Odd', 'Even', 'Odd', 'Even', 'Odd']\n"
     ]
    }
   ],
   "source": [
    "# Applying a conditional expression to elements in a list using list comprehension\n",
    "numbers = [1, 2, 3, 4, 5]\n",
    "\n",
    "# Creating a list of even or odd labels for each number\n",
    "labels = ['Even' if num % 2 == 0 else 'Odd' for num in numbers]\n",
    "print(labels)  # Output: ['Odd', 'Even', 'Odd', 'Even', 'Odd']"
   ]
  },
  {
   "cell_type": "markdown",
   "metadata": {},
   "source": [
    "#### Using Conditional Expressions with Dictionaries"
   ]
  },
  {
   "cell_type": "code",
   "execution_count": 5,
   "metadata": {},
   "outputs": [
    {
     "name": "stdout",
     "output_type": "stream",
     "text": [
      "{'name': 'Alice', 'age': 30, 'status': 'Adult'}\n"
     ]
    }
   ],
   "source": [
    "# Using conditional expressions to set dictionary values\n",
    "person = {'name': 'Alice', 'age': 30}\n",
    "\n",
    "# Using a conditional expression to determine status\n",
    "person['status'] = 'Adult' if person['age'] >= 18 else 'Minor'\n",
    "print(person)  # Output: {'name': 'Alice', 'age': 30, 'status': 'Adult'}"
   ]
  },
  {
   "cell_type": "markdown",
   "metadata": {},
   "source": [
    "#### Using Conditional Expressions with Functions"
   ]
  },
  {
   "cell_type": "code",
   "execution_count": 6,
   "metadata": {},
   "outputs": [
    {
     "name": "stdout",
     "output_type": "stream",
     "text": [
      "Hello!\n"
     ]
    }
   ],
   "source": [
    "# Using conditional expressions to return different functions\n",
    "def say_hello():\n",
    "    return \"Hello!\"\n",
    "\n",
    "def say_goodbye():\n",
    "    return \"Goodbye!\"\n",
    "\n",
    "# Conditional expression to choose which function to call\n",
    "greet = say_hello if True else say_goodbye\n",
    "print(greet())  # Output: Hello!"
   ]
  },
  {
   "cell_type": "markdown",
   "metadata": {},
   "source": [
    "#### Handling Complex Conditions"
   ]
  },
  {
   "cell_type": "code",
   "execution_count": 7,
   "metadata": {},
   "outputs": [
    {
     "name": "stdout",
     "output_type": "stream",
     "text": [
      "True\n"
     ]
    }
   ],
   "source": [
    "# Using complex conditions in conditional expressions\n",
    "age = 25\n",
    "country = 'USA'\n",
    "\n",
    "# Determine eligibility for voting\n",
    "is_eligible = True if age >= 18 and country == 'USA' else False\n",
    "print(is_eligible)  # Output: True"
   ]
  },
  {
   "cell_type": "markdown",
   "metadata": {},
   "source": [
    "#### Conditional Expression with Tuples"
   ]
  },
  {
   "cell_type": "code",
   "execution_count": 8,
   "metadata": {},
   "outputs": [
    {
     "name": "stdout",
     "output_type": "stream",
     "text": [
      "5\n"
     ]
    }
   ],
   "source": [
    "# Using conditional expressions to select values from tuples\n",
    "a = 5\n",
    "b = 10\n",
    "\n",
    "# Select the minimum value\n",
    "min_value = (b, a)[a < b]\n",
    "print(min_value)  # Output: 5"
   ]
  },
  {
   "cell_type": "markdown",
   "metadata": {},
   "source": [
    "#### Conditional Expression in Lambda Functions"
   ]
  },
  {
   "cell_type": "code",
   "execution_count": 9,
   "metadata": {},
   "outputs": [
    {
     "name": "stdout",
     "output_type": "stream",
     "text": [
      "10\n"
     ]
    }
   ],
   "source": [
    "# Using conditional expressions inside lambda functions\n",
    "min_value = lambda x, y: x if x < y else y\n",
    "print(min_value(10, 20))  # Output: 10"
   ]
  },
  {
   "cell_type": "markdown",
   "metadata": {},
   "source": [
    "### Summary\n",
    "\n",
    "- **Syntax**: `<expression1> if <condition> else <expression2>`.\n",
    "- **Basic Use**: Conditionally assign values based on a simple `if-else` condition.\n",
    "- **Functions**: Use inside functions to return different values based on conditions.\n",
    "- **Nesting**: Nest conditional expressions for multiple conditions.\n",
    "- **Collections**: Apply conditional expressions in list comprehensions and dictionary value assignments.\n",
    "- **Complex Conditions**: Handle multiple conditions using logical operators.\n",
    "- **Lambdas**: Use in lambda functions for concise conditional logic.\n",
    "\n",
    "Conditional expressions are a powerful feature that allows for concise and readable code when you need to assign values based on conditions. They are especially useful for simple `if-else` conditions where using a full `if` statement would be overkill."
   ]
  }
 ],
 "metadata": {
  "kernelspec": {
   "display_name": "Python 3",
   "language": "python",
   "name": "python3"
  },
  "language_info": {
   "codemirror_mode": {
    "name": "ipython",
    "version": 3
   },
   "file_extension": ".py",
   "mimetype": "text/x-python",
   "name": "python",
   "nbconvert_exporter": "python",
   "pygments_lexer": "ipython3",
   "version": "3.12.5"
  }
 },
 "nbformat": 4,
 "nbformat_minor": 2
}

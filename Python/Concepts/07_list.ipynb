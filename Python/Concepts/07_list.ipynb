{
 "cells": [
  {
   "cell_type": "markdown",
   "metadata": {},
   "source": [
    "**Concept of Lists**"
   ]
  },
  {
   "cell_type": "markdown",
   "metadata": {},
   "source": [
    "Defining Lists\n"
   ]
  },
  {
   "cell_type": "code",
   "execution_count": 1,
   "metadata": {},
   "outputs": [],
   "source": [
    "# Defining lists\n",
    "list1 = [1, 2, 3, 4, 5]  # List of integers\n",
    "list2 = ['a', 'b', 'c', 'd']  # List of characters\n",
    "list3 = [1, 'a', 3.14, True]  # List with mixed data types"
   ]
  },
  {
   "cell_type": "code",
   "execution_count": 2,
   "metadata": {},
   "outputs": [
    {
     "name": "stdout",
     "output_type": "stream",
     "text": [
      "[1, 2, 3, 4, 5]\n",
      "['a', 'b', 'c', 'd']\n",
      "[1, 'a', 3.14, True]\n"
     ]
    }
   ],
   "source": [
    "# Printing lists\n",
    "print(list1)  # Output: [1, 2, 3, 4, 5]\n",
    "print(list2)  # Output: ['a', 'b', 'c', 'd']\n",
    "print(list3)  # Output: [1, 'a', 3.14, True]"
   ]
  },
  {
   "cell_type": "markdown",
   "metadata": {},
   "source": [
    "List indexing"
   ]
  },
  {
   "cell_type": "code",
   "execution_count": 3,
   "metadata": {},
   "outputs": [
    {
     "name": "stdout",
     "output_type": "stream",
     "text": [
      "1\n",
      "d\n"
     ]
    }
   ],
   "source": [
    "# List indexing\n",
    "print(list1[0])  # Output: 1\n",
    "print(list2[-1])  # Output: 'd'"
   ]
  },
  {
   "cell_type": "markdown",
   "metadata": {},
   "source": [
    "List slicing"
   ]
  },
  {
   "cell_type": "code",
   "execution_count": 4,
   "metadata": {},
   "outputs": [
    {
     "name": "stdout",
     "output_type": "stream",
     "text": [
      "[2, 3]\n",
      "['a', 'b']\n",
      "[1, 3.14]\n"
     ]
    }
   ],
   "source": [
    "# List slicing\n",
    "print(list1[1:3])  # Output: [2, 3]\n",
    "print(list2[:2])  # Output: ['a', 'b']\n",
    "print(list3[::2])  # Output: [1, 3.14]"
   ]
  },
  {
   "cell_type": "markdown",
   "metadata": {},
   "source": [
    "List methods"
   ]
  },
  {
   "cell_type": "code",
   "execution_count": 5,
   "metadata": {},
   "outputs": [
    {
     "name": "stdout",
     "output_type": "stream",
     "text": [
      "Length of the list: 5\n"
     ]
    }
   ],
   "source": [
    "# len(list_name) -> returns the length of the list\n",
    "length = len(list1)  # Output: 5\n",
    "print(\"Length of the list:\", length)  # Output: Length of the list: 5"
   ]
  },
  {
   "cell_type": "code",
   "execution_count": 6,
   "metadata": {},
   "outputs": [
    {
     "name": "stdout",
     "output_type": "stream",
     "text": [
      "[1, 2, 3, 4, 5, 6]\n"
     ]
    }
   ],
   "source": [
    "# list_name.append(element) -> adds an element to the end of the list\n",
    "list1.append(6)\n",
    "print(list1)  # Output: [1, 2, 3, 4, 5, 6]"
   ]
  },
  {
   "cell_type": "code",
   "execution_count": 7,
   "metadata": {},
   "outputs": [
    {
     "name": "stdout",
     "output_type": "stream",
     "text": [
      "[1, 2, 3, 4, 5, 6, 7, 8]\n"
     ]
    }
   ],
   "source": [
    "# list_name.extend(iterable) -> extends the list by appending elements from an iterable\n",
    "list1.extend([7, 8])\n",
    "print(list1)  # Output: [1, 2, 3, 4, 5, 6, 7, 8]"
   ]
  },
  {
   "cell_type": "code",
   "execution_count": 8,
   "metadata": {},
   "outputs": [
    {
     "name": "stdout",
     "output_type": "stream",
     "text": [
      "['a', 'b', 'z', 'c', 'd']\n"
     ]
    }
   ],
   "source": [
    "# list_name.insert(index, element) -> inserts an element at the specified position\n",
    "list2.insert(2, 'z')\n",
    "print(list2)  # Output: ['a', 'b', 'z', 'c', 'd']"
   ]
  },
  {
   "cell_type": "code",
   "execution_count": 9,
   "metadata": {},
   "outputs": [
    {
     "name": "stdout",
     "output_type": "stream",
     "text": [
      "['a', 'b', 'c', 'd']\n"
     ]
    }
   ],
   "source": [
    "# list_name.remove(element) -> removes the first occurrence of the element\n",
    "list2.remove('z')\n",
    "print(list2)  # Output: ['a', 'b', 'c', 'd']"
   ]
  },
  {
   "cell_type": "code",
   "execution_count": 10,
   "metadata": {},
   "outputs": [
    {
     "name": "stdout",
     "output_type": "stream",
     "text": [
      "3\n",
      "[1, 2, 4, 5, 6, 7, 8]\n"
     ]
    }
   ],
   "source": [
    "# list_name.pop(index) -> removes and returns the element at the specified index\n",
    "popped_element = list1.pop(2)\n",
    "print(popped_element)  # Output: 3\n",
    "print(list1)  # Output: [1, 2, 4, 5, 6, 7, 8]"
   ]
  },
  {
   "cell_type": "code",
   "execution_count": 11,
   "metadata": {},
   "outputs": [
    {
     "name": "stdout",
     "output_type": "stream",
     "text": [
      "[]\n"
     ]
    }
   ],
   "source": [
    "# list_name.clear() -> removes all elements from the list\n",
    "list3.clear()\n",
    "print(list3)  # Output: []"
   ]
  },
  {
   "cell_type": "code",
   "execution_count": 12,
   "metadata": {},
   "outputs": [
    {
     "name": "stdout",
     "output_type": "stream",
     "text": [
      "2\n"
     ]
    }
   ],
   "source": [
    "# list_name.index(element) -> returns the index of the first occurrence of the element\n",
    "index = list2.index('c')\n",
    "print(index)  # Output: 2"
   ]
  },
  {
   "cell_type": "code",
   "execution_count": 13,
   "metadata": {},
   "outputs": [
    {
     "name": "stdout",
     "output_type": "stream",
     "text": [
      "1\n"
     ]
    }
   ],
   "source": [
    "# list_name.count(element) -> returns the number of occurrences of the element\n",
    "count = list1.count(4)\n",
    "print(count)  # Output: 1"
   ]
  },
  {
   "cell_type": "code",
   "execution_count": 14,
   "metadata": {},
   "outputs": [
    {
     "name": "stdout",
     "output_type": "stream",
     "text": [
      "[1, 2, 4, 5, 6, 7, 8]\n"
     ]
    }
   ],
   "source": [
    "# list_name.sort() -> sorts the list in ascending order\n",
    "list1.sort()\n",
    "print(list1)  # Output: [1, 2, 4, 5, 6, 7, 8]"
   ]
  },
  {
   "cell_type": "code",
   "execution_count": 15,
   "metadata": {},
   "outputs": [
    {
     "name": "stdout",
     "output_type": "stream",
     "text": [
      "[8, 7, 6, 5, 4, 2, 1]\n"
     ]
    }
   ],
   "source": [
    "# list_name.reverse() -> reverses the elements of the list\n",
    "list1.reverse()\n",
    "print(list1)  # Output: [8, 7, 6, 5, 4, 2, 1]"
   ]
  },
  {
   "cell_type": "code",
   "execution_count": 16,
   "metadata": {},
   "outputs": [
    {
     "name": "stdout",
     "output_type": "stream",
     "text": [
      "[8, 7, 6, 5, 4, 2, 1]\n"
     ]
    }
   ],
   "source": [
    "# list_name.copy() -> returns a shallow copy of the list\n",
    "list_copy = list1.copy()\n",
    "print(list_copy)  # Output: [8, 7, 6, 5, 4, 2, 1]"
   ]
  },
  {
   "cell_type": "markdown",
   "metadata": {},
   "source": [
    "Additional list functions"
   ]
  },
  {
   "cell_type": "code",
   "execution_count": 17,
   "metadata": {},
   "outputs": [
    {
     "name": "stdout",
     "output_type": "stream",
     "text": [
      "[8, 7, 6, 5, 4, 2, 1]\n"
     ]
    }
   ],
   "source": [
    "# list_name.sort(reverse=True) -> sorts the list in descending order\n",
    "list1.sort(reverse=True)\n",
    "print(list1)  # Output: [8, 7, 6, 5, 4, 2, 1]"
   ]
  },
  {
   "cell_type": "code",
   "execution_count": 18,
   "metadata": {},
   "outputs": [
    {
     "name": "stdout",
     "output_type": "stream",
     "text": [
      "1\n"
     ]
    }
   ],
   "source": [
    "# min(list_name) -> returns the smallest item in the list\n",
    "min_val = min(list1)\n",
    "print(min_val)  # Output: 1"
   ]
  },
  {
   "cell_type": "code",
   "execution_count": 19,
   "metadata": {},
   "outputs": [
    {
     "name": "stdout",
     "output_type": "stream",
     "text": [
      "8\n"
     ]
    }
   ],
   "source": [
    "# max(list_name) -> returns the largest item in the list\n",
    "max_val = max(list1)\n",
    "print(max_val)  # Output: 8"
   ]
  },
  {
   "cell_type": "code",
   "execution_count": 20,
   "metadata": {},
   "outputs": [
    {
     "name": "stdout",
     "output_type": "stream",
     "text": [
      "33\n"
     ]
    }
   ],
   "source": [
    "\n",
    "# sum(list_name) -> returns the sum of all items in the list\n",
    "sum_val = sum(list1)\n",
    "print(sum_val)  # Output: 33"
   ]
  },
  {
   "cell_type": "code",
   "execution_count": 21,
   "metadata": {},
   "outputs": [
    {
     "name": "stdout",
     "output_type": "stream",
     "text": [
      "[(1, 'a'), (2, 'b'), (3, 'c')]\n"
     ]
    }
   ],
   "source": [
    "# zip() -> aggregates elements from multiple iterables\n",
    "list4 = [1, 2, 3]\n",
    "list5 = ['a', 'b', 'c']\n",
    "zipped_list = list(zip(list4, list5))\n",
    "print(zipped_list)  # Output: [(1, 'a'), (2, 'b'), (3, 'c')]"
   ]
  }
 ],
 "metadata": {
  "kernelspec": {
   "display_name": "Python 3",
   "language": "python",
   "name": "python3"
  },
  "language_info": {
   "codemirror_mode": {
    "name": "ipython",
    "version": 3
   },
   "file_extension": ".py",
   "mimetype": "text/x-python",
   "name": "python",
   "nbconvert_exporter": "python",
   "pygments_lexer": "ipython3",
   "version": "3.12.5"
  }
 },
 "nbformat": 4,
 "nbformat_minor": 2
}

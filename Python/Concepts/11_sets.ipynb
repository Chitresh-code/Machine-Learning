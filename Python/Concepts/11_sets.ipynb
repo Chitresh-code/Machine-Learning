{
 "cells": [
  {
   "cell_type": "markdown",
   "metadata": {},
   "source": [
    "**Concept of Sets**"
   ]
  },
  {
   "cell_type": "code",
   "execution_count": 1,
   "metadata": {},
   "outputs": [],
   "source": [
    "# Defining sets\n",
    "set1 = {1, 2, 3, 4, 5}  # Set of integers\n",
    "set2 = {'apple', 'banana', 'cherry'}  # Set of strings"
   ]
  },
  {
   "cell_type": "code",
   "execution_count": 2,
   "metadata": {},
   "outputs": [
    {
     "name": "stdout",
     "output_type": "stream",
     "text": [
      "{1, 2, 3, 4, 5}\n",
      "{'cherry', 'banana', 'apple'}\n"
     ]
    }
   ],
   "source": [
    "# Printing sets\n",
    "print(set1)  # Output: {1, 2, 3, 4, 5}\n",
    "print(set2)  # Output: {'apple', 'banana', 'cherry'}"
   ]
  },
  {
   "cell_type": "code",
   "execution_count": 3,
   "metadata": {},
   "outputs": [
    {
     "name": "stdout",
     "output_type": "stream",
     "text": [
      "set()\n"
     ]
    }
   ],
   "source": [
    "# Creating an empty set\n",
    "empty_set = set()\n",
    "print(empty_set)  # Output: set()"
   ]
  },
  {
   "cell_type": "code",
   "execution_count": 4,
   "metadata": {},
   "outputs": [
    {
     "name": "stdout",
     "output_type": "stream",
     "text": [
      "{1, 2, 3, 4, 5, 6}\n"
     ]
    }
   ],
   "source": [
    "# Adding elements to a set\n",
    "set1.add(6)\n",
    "print(set1)  # Output: {1, 2, 3, 4, 5, 6}"
   ]
  },
  {
   "cell_type": "code",
   "execution_count": 5,
   "metadata": {},
   "outputs": [
    {
     "name": "stdout",
     "output_type": "stream",
     "text": [
      "{'date', 'elderberry', 'cherry', 'banana', 'apple'}\n"
     ]
    }
   ],
   "source": [
    "# Adding multiple elements (using update())\n",
    "set2.update(['date', 'elderberry'])\n",
    "print(set2)  # Output: {'apple', 'banana', 'cherry', 'date', 'elderberry'}"
   ]
  },
  {
   "cell_type": "code",
   "execution_count": 6,
   "metadata": {},
   "outputs": [
    {
     "name": "stdout",
     "output_type": "stream",
     "text": [
      "{1, 2, 4, 5, 6}\n"
     ]
    }
   ],
   "source": [
    "# Removing elements from a set\n",
    "set1.remove(3)  # Raises KeyError if the element is not found\n",
    "print(set1)  # Output: {1, 2, 4, 5, 6}"
   ]
  },
  {
   "cell_type": "code",
   "execution_count": 7,
   "metadata": {},
   "outputs": [
    {
     "name": "stdout",
     "output_type": "stream",
     "text": [
      "{1, 2, 5, 6}\n"
     ]
    }
   ],
   "source": [
    "# Removing elements using discard() (does not raise error if element is not found)\n",
    "set1.discard(4)\n",
    "print(set1)  # Output: {1, 2, 5, 6}"
   ]
  },
  {
   "cell_type": "code",
   "execution_count": 8,
   "metadata": {},
   "outputs": [
    {
     "name": "stdout",
     "output_type": "stream",
     "text": [
      "1\n",
      "{2, 5, 6}\n"
     ]
    }
   ],
   "source": [
    "# Removing an arbitrary element using pop()\n",
    "element = set1.pop()\n",
    "print(element)  # Output: 1 (or another element, since sets are unordered)\n",
    "print(set1)  # Output: Set without the popped element"
   ]
  },
  {
   "cell_type": "code",
   "execution_count": 9,
   "metadata": {},
   "outputs": [
    {
     "name": "stdout",
     "output_type": "stream",
     "text": [
      "set()\n"
     ]
    }
   ],
   "source": [
    "# Clearing the set\n",
    "set1.clear()\n",
    "print(set1)  # Output: set()"
   ]
  },
  {
   "cell_type": "markdown",
   "metadata": {},
   "source": [
    "Set operations"
   ]
  },
  {
   "cell_type": "code",
   "execution_count": 10,
   "metadata": {},
   "outputs": [
    {
     "name": "stdout",
     "output_type": "stream",
     "text": [
      "{1, 2, 3, 4, 5}\n"
     ]
    }
   ],
   "source": [
    "# Union of sets\n",
    "setA = {1, 2, 3}\n",
    "setB = {3, 4, 5}\n",
    "union_set = setA | setB\n",
    "print(union_set)  # Output: {1, 2, 3, 4, 5}"
   ]
  },
  {
   "cell_type": "code",
   "execution_count": 11,
   "metadata": {},
   "outputs": [
    {
     "name": "stdout",
     "output_type": "stream",
     "text": [
      "{3}\n"
     ]
    }
   ],
   "source": [
    "# Intersection of sets\n",
    "intersection_set = setA & setB\n",
    "print(intersection_set)  # Output: {3}"
   ]
  },
  {
   "cell_type": "code",
   "execution_count": 12,
   "metadata": {},
   "outputs": [
    {
     "name": "stdout",
     "output_type": "stream",
     "text": [
      "{1, 2}\n"
     ]
    }
   ],
   "source": [
    "# Difference of sets\n",
    "difference_set = setA - setB\n",
    "print(difference_set)  # Output: {1, 2}"
   ]
  },
  {
   "cell_type": "code",
   "execution_count": 13,
   "metadata": {},
   "outputs": [
    {
     "name": "stdout",
     "output_type": "stream",
     "text": [
      "{1, 2, 4, 5}\n"
     ]
    }
   ],
   "source": [
    "# Symmetric difference of sets (elements in either set but not both)\n",
    "symmetric_difference_set = setA ^ setB\n",
    "print(symmetric_difference_set)  # Output: {1, 2, 4, 5}"
   ]
  },
  {
   "cell_type": "code",
   "execution_count": 14,
   "metadata": {},
   "outputs": [
    {
     "name": "stdout",
     "output_type": "stream",
     "text": [
      "True\n",
      "True\n"
     ]
    }
   ],
   "source": [
    "# Checking subset and superset\n",
    "print(setA.issubset({1, 2, 3, 4, 5}))  # Output: True\n",
    "print(setA.issuperset({1, 2}))  # Output: True"
   ]
  },
  {
   "cell_type": "code",
   "execution_count": 15,
   "metadata": {},
   "outputs": [
    {
     "name": "stdout",
     "output_type": "stream",
     "text": [
      "True\n",
      "False\n"
     ]
    }
   ],
   "source": [
    "# Checking disjoint sets\n",
    "print(setA.isdisjoint({6, 7}))  # Output: True\n",
    "print(setA.isdisjoint({3, 4}))  # Output: False"
   ]
  },
  {
   "cell_type": "markdown",
   "metadata": {},
   "source": [
    "Set Comprehention"
   ]
  },
  {
   "cell_type": "code",
   "execution_count": 17,
   "metadata": {},
   "outputs": [
    {
     "name": "stdout",
     "output_type": "stream",
     "text": [
      "{0, 1, 4, 9, 16, 25}\n"
     ]
    }
   ],
   "source": [
    "# Syntax: {expression for item in iterable}\n",
    "squares = {x**2 for x in range(6)}\n",
    "print(squares)  # Output: {0, 1, 4, 9, 16, 25}"
   ]
  },
  {
   "cell_type": "code",
   "execution_count": 18,
   "metadata": {},
   "outputs": [
    {
     "name": "stdout",
     "output_type": "stream",
     "text": [
      "['date', 'elderberry', 'cherry', 'banana', 'apple']\n"
     ]
    }
   ],
   "source": [
    "# Converting a set to a list\n",
    "set_to_list = list(set2)\n",
    "print(set_to_list)  # Output: List of elements in set2"
   ]
  },
  {
   "cell_type": "code",
   "execution_count": 19,
   "metadata": {},
   "outputs": [
    {
     "name": "stdout",
     "output_type": "stream",
     "text": [
      "{1, 2, 3, 4, 5}\n"
     ]
    }
   ],
   "source": [
    "# Converting a list to a set (removes duplicates)\n",
    "list_with_duplicates = [1, 2, 2, 3, 4, 4, 5]\n",
    "unique_set = set(list_with_duplicates)\n",
    "print(unique_set)  # Output: {1, 2, 3, 4, 5}"
   ]
  },
  {
   "cell_type": "code",
   "execution_count": 20,
   "metadata": {},
   "outputs": [
    {
     "name": "stdout",
     "output_type": "stream",
     "text": [
      "{frozenset({3, 4}), frozenset({1, 2})}\n"
     ]
    }
   ],
   "source": [
    "# Nested sets (Sets cannot contain other sets directly, but can contain frozensets)\n",
    "nested_set = {frozenset({1, 2}), frozenset({3, 4})}\n",
    "print(nested_set)  # Output: {frozenset({1, 2}), frozenset({3, 4})}"
   ]
  },
  {
   "cell_type": "code",
   "execution_count": 25,
   "metadata": {},
   "outputs": [],
   "source": [
    "# Example of set operations with different data types\n",
    "set_numbers = {1, 2, 3}\n",
    "set_strings = {'a', 'b', 'c'}"
   ]
  },
  {
   "cell_type": "code",
   "execution_count": 26,
   "metadata": {},
   "outputs": [
    {
     "name": "stdout",
     "output_type": "stream",
     "text": [
      "{1, 2, 3, 'b', 'c', 'a'}\n"
     ]
    }
   ],
   "source": [
    "# Union of different data types\n",
    "combined_set = set_numbers | set_strings\n",
    "print(combined_set)  # Output: {1, 2, 3, 'a', 'b', 'c'}"
   ]
  },
  {
   "cell_type": "code",
   "execution_count": 27,
   "metadata": {},
   "outputs": [
    {
     "name": "stdout",
     "output_type": "stream",
     "text": [
      "c\n",
      "a\n",
      "b\n"
     ]
    }
   ],
   "source": [
    "# Iterating through a set\n",
    "for item in set_strings:\n",
    "    print(item)\n",
    "# Output:\n",
    "# c\n",
    "# a\n",
    "# b"
   ]
  },
  {
   "cell_type": "code",
   "execution_count": 28,
   "metadata": {},
   "outputs": [
    {
     "name": "stdout",
     "output_type": "stream",
     "text": [
      "{1, 2, 3, 4}\n"
     ]
    }
   ],
   "source": [
    "# Set as function argument\n",
    "def add_to_set(element, my_set):\n",
    "    my_set.add(element)\n",
    "\n",
    "my_set = {1, 2, 3}\n",
    "add_to_set(4, my_set)\n",
    "print(my_set)  # Output: {1, 2, 3, 4}"
   ]
  }
 ],
 "metadata": {
  "kernelspec": {
   "display_name": "Python 3",
   "language": "python",
   "name": "python3"
  },
  "language_info": {
   "codemirror_mode": {
    "name": "ipython",
    "version": 3
   },
   "file_extension": ".py",
   "mimetype": "text/x-python",
   "name": "python",
   "nbconvert_exporter": "python",
   "pygments_lexer": "ipython3",
   "version": "3.12.5"
  }
 },
 "nbformat": 4,
 "nbformat_minor": 2
}

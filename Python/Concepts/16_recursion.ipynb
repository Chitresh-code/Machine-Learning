{
 "cells": [
  {
   "cell_type": "markdown",
   "metadata": {},
   "source": [
    "### Recursion in Python\n",
    "\n",
    "Recursion is a programming technique where a function calls itself directly or indirectly to solve a problem. It allows problems to be solved in a simple and elegant way, especially those that can be broken down into smaller, similar sub-problems."
   ]
  },
  {
   "cell_type": "markdown",
   "metadata": {},
   "source": [
    "#### Key Concepts\n",
    "\n",
    "1. **Base Case**: The condition under which the recursive function stops calling itself. It prevents infinite recursion and eventual stack overflow.\n",
    "2. **Recursive Case**: The part of the function where the function calls itself with modified arguments, gradually approaching the base case."
   ]
  },
  {
   "cell_type": "markdown",
   "metadata": {},
   "source": [
    "### Syntax\n",
    "\n",
    "```python\n",
    "def recursive_function(parameters):\n",
    "    # Base case\n",
    "    if base_condition:\n",
    "        return base_value\n",
    "    else:\n",
    "        # Recursive case\n",
    "        return recursive_function(modified_parameters)\n",
    "```"
   ]
  },
  {
   "cell_type": "markdown",
   "metadata": {},
   "source": [
    "### Examples and Usage"
   ]
  },
  {
   "cell_type": "markdown",
   "metadata": {},
   "source": [
    "#### Factorial\n",
    "\n",
    "The factorial of a number `n` is the product of all positive integers less than or equal to `n`."
   ]
  },
  {
   "cell_type": "code",
   "execution_count": 1,
   "metadata": {},
   "outputs": [
    {
     "name": "stdout",
     "output_type": "stream",
     "text": [
      "120\n"
     ]
    }
   ],
   "source": [
    "def factorial(n):\n",
    "    \"\"\"\n",
    "    This function returns the factorial of a number using recursion.\n",
    "    \"\"\"\n",
    "    # Base case\n",
    "    if n == 1:\n",
    "        return 1\n",
    "    else:\n",
    "        # Recursive case\n",
    "        return n * factorial(n - 1)\n",
    "\n",
    "print(factorial(5))  # Output: 120"
   ]
  },
  {
   "cell_type": "markdown",
   "metadata": {},
   "source": [
    "#### Fibonacci Sequence\n",
    "\n",
    "The Fibonacci sequence is a series of numbers where each number is the sum of the two preceding ones."
   ]
  },
  {
   "cell_type": "code",
   "execution_count": 2,
   "metadata": {},
   "outputs": [
    {
     "name": "stdout",
     "output_type": "stream",
     "text": [
      "8\n"
     ]
    }
   ],
   "source": [
    "def fibonacci(n):\n",
    "    \"\"\"\n",
    "    This function returns the nth Fibonacci number using recursion.\n",
    "    \"\"\"\n",
    "    # Base case\n",
    "    if n <= 1:\n",
    "        return n\n",
    "    else:\n",
    "        # Recursive case\n",
    "        return fibonacci(n - 1) + fibonacci(n - 2)\n",
    "\n",
    "print(fibonacci(6))  # Output: 8"
   ]
  },
  {
   "cell_type": "markdown",
   "metadata": {},
   "source": [
    "#### Sum of a List\n",
    "\n",
    "Calculate the sum of elements in a list using recursion."
   ]
  },
  {
   "cell_type": "code",
   "execution_count": 3,
   "metadata": {},
   "outputs": [
    {
     "name": "stdout",
     "output_type": "stream",
     "text": [
      "15\n"
     ]
    }
   ],
   "source": [
    "def sum_list(lst):\n",
    "    \"\"\"\n",
    "    This function returns the sum of all elements in a list using recursion.\n",
    "    \"\"\"\n",
    "    # Base case\n",
    "    if not lst:\n",
    "        return 0\n",
    "    else:\n",
    "        # Recursive case\n",
    "        return lst[0] + sum_list(lst[1:])\n",
    "\n",
    "print(sum_list([1, 2, 3, 4, 5]))  # Output: 15"
   ]
  },
  {
   "cell_type": "markdown",
   "metadata": {},
   "source": [
    "#### Reverse a String\n",
    "\n",
    "Reverse a string using recursion."
   ]
  },
  {
   "cell_type": "code",
   "execution_count": 4,
   "metadata": {},
   "outputs": [
    {
     "name": "stdout",
     "output_type": "stream",
     "text": [
      "olleh\n"
     ]
    }
   ],
   "source": [
    "def reverse_string(s):\n",
    "    \"\"\"\n",
    "    This function returns the reverse of a string using recursion.\n",
    "    \"\"\"\n",
    "    # Base case\n",
    "    if len(s) == 0:\n",
    "        return s\n",
    "    else:\n",
    "        # Recursive case\n",
    "        return s[-1] + reverse_string(s[:-1])\n",
    "\n",
    "print(reverse_string(\"hello\"))  # Output: olleh"
   ]
  },
  {
   "cell_type": "markdown",
   "metadata": {},
   "source": [
    "#### Towers of Hanoi\n",
    "\n",
    "Solve the Towers of Hanoi puzzle using recursion."
   ]
  },
  {
   "cell_type": "code",
   "execution_count": 5,
   "metadata": {},
   "outputs": [
    {
     "name": "stdout",
     "output_type": "stream",
     "text": [
      "Move disk 1 from A to C\n",
      "Move disk 2 from A to B\n",
      "Move disk 1 from C to B\n",
      "Move disk 3 from A to C\n",
      "Move disk 1 from B to A\n",
      "Move disk 2 from B to C\n",
      "Move disk 1 from A to C\n"
     ]
    }
   ],
   "source": [
    "def towers_of_hanoi(n, source, auxiliary, target):\n",
    "    \"\"\"\n",
    "    This function solves the Towers of Hanoi puzzle using recursion.\n",
    "    \"\"\"\n",
    "    if n == 1:\n",
    "        print(f\"Move disk 1 from {source} to {target}\")\n",
    "        return\n",
    "    towers_of_hanoi(n - 1, source, target, auxiliary)\n",
    "    print(f\"Move disk {n} from {source} to {target}\")\n",
    "    towers_of_hanoi(n - 1, auxiliary, source, target)\n",
    "\n",
    "# Example: Move 3 disks from A to C using B as auxiliary\n",
    "towers_of_hanoi(3, 'A', 'B', 'C')\n",
    "# Output:\n",
    "# Move disk 1 from A to C\n",
    "# Move disk 2 from A to B\n",
    "# Move disk 1 from C to B\n",
    "# Move disk 3 from A to C\n",
    "# Move disk 1 from B to A\n",
    "# Move disk 2 from B to C\n",
    "# Move disk 1 from A to C"
   ]
  },
  {
   "cell_type": "markdown",
   "metadata": {},
   "source": [
    "### Advantages of Recursion\n",
    "\n",
    "1. **Simplifies Code**: Recursive solutions are often more concise and easier to understand.\n",
    "2. **Natural Fit**: Ideal for problems that can be divided into similar sub-problems, like tree and graph traversals."
   ]
  },
  {
   "cell_type": "markdown",
   "metadata": {},
   "source": [
    "### Disadvantages of Recursion\n",
    "\n",
    "1. **Performance**: Recursive solutions can be less efficient and consume more memory due to repeated function calls.\n",
    "2. **Complexity**: Can be harder to debug and understand for complex problems."
   ]
  },
  {
   "cell_type": "markdown",
   "metadata": {},
   "source": [
    "### Summary\n",
    "\n",
    "- **Recursion**: A technique where a function calls itself.\n",
    "  - **Base Case**: Condition to stop recursion.\n",
    "  - **Recursive Case**: The part of the function where recursion happens.\n",
    "- **Examples**: Factorial, Fibonacci sequence, sum of a list, reverse a string, Towers of Hanoi.\n",
    "- **Advantages**: Simplifies code and naturally fits problems that can be divided into sub-problems.\n",
    "- **Disadvantages**: Can be less efficient and more complex to debug.\n",
    "\n",
    "Recursion is a powerful tool in programming, enabling elegant solutions for problems involving repetitive and nested structures."
   ]
  }
 ],
 "metadata": {
  "kernelspec": {
   "display_name": "Python 3",
   "language": "python",
   "name": "python3"
  },
  "language_info": {
   "codemirror_mode": {
    "name": "ipython",
    "version": 3
   },
   "file_extension": ".py",
   "mimetype": "text/x-python",
   "name": "python",
   "nbconvert_exporter": "python",
   "pygments_lexer": "ipython3",
   "version": "3.12.5"
  }
 },
 "nbformat": 4,
 "nbformat_minor": 2
}

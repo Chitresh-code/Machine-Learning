{
 "cells": [
  {
   "cell_type": "markdown",
   "metadata": {},
   "source": [
    "**Concept of Dictionaries**"
   ]
  },
  {
   "cell_type": "markdown",
   "metadata": {},
   "source": [
    "### Summary\n",
    "\n",
    "- **Defining Dictionaries**: Use `{}` or the `dict()` constructor.\n",
    "- **Accessing Values**: Use `[]` or `get()`.\n",
    "- **Adding/Updating Items**: Direct assignment or `update()`.\n",
    "- **Removing Items**: Use `del`, `pop()`, or `popitem()`.\n",
    "- **Clearing Dictionaries**: Use `clear()`.\n",
    "- **Dictionary Methods**: `keys()`, `values()`, `items()`.\n",
    "- **Comprehensions**: Create dictionaries using dictionary comprehensions.\n",
    "- **Merging Dictionaries**: Use `|` operator (Python 3.9+).\n",
    "- **Iterating**: Iterate through keys, values, or items.\n",
    "- **Nested Dictionaries**: Access nested values using multiple keys.\n",
    "\n",
    "Dictionaries are versatile and efficient for various tasks, especially when you need to map keys to values and perform lookups quickly."
   ]
  },
  {
   "cell_type": "code",
   "execution_count": 1,
   "metadata": {},
   "outputs": [],
   "source": [
    "# Dictionaries in Python\n",
    "\n",
    "# Defining a dictionary\n",
    "dictionary1 = {\n",
    "    'name': 'Alice',\n",
    "    'age': 30,\n",
    "    'city': 'New York'\n",
    "}"
   ]
  },
  {
   "cell_type": "code",
   "execution_count": 2,
   "metadata": {},
   "outputs": [
    {
     "name": "stdout",
     "output_type": "stream",
     "text": [
      "{'name': 'Alice', 'age': 30, 'city': 'New York'}\n"
     ]
    }
   ],
   "source": [
    "# Printing dictionary\n",
    "print(dictionary1)  # Output: {'name': 'Alice', 'age': 30, 'city': 'New York'}"
   ]
  },
  {
   "cell_type": "code",
   "execution_count": 3,
   "metadata": {},
   "outputs": [
    {
     "name": "stdout",
     "output_type": "stream",
     "text": [
      "Alice\n"
     ]
    }
   ],
   "source": [
    "# Accessing values\n",
    "print(dictionary1['name'])  # Output: Alice"
   ]
  },
  {
   "cell_type": "code",
   "execution_count": 7,
   "metadata": {},
   "outputs": [
    {
     "name": "stdout",
     "output_type": "stream",
     "text": [
      "30\n",
      "Not Found\n"
     ]
    }
   ],
   "source": [
    "# Using the get method\n",
    "print(dictionary1.get('age'))  # Output: 30\n",
    "print(dictionary1.get('country', 'Not Found'))  # Output: Not Found"
   ]
  },
  {
   "cell_type": "code",
   "execution_count": 8,
   "metadata": {},
   "outputs": [
    {
     "name": "stdout",
     "output_type": "stream",
     "text": [
      "{'name': 'Alice', 'age': 31, 'city': 'New York', 'email': 'alice@example.com'}\n"
     ]
    }
   ],
   "source": [
    "# Adding or updating key-value pairs\n",
    "dictionary1['email'] = 'alice@example.com'\n",
    "dictionary1['age'] = 31\n",
    "print(dictionary1)  # Output: {'name': 'Alice', 'age': 31, 'city': 'New York', 'email': 'alice@example.com'}"
   ]
  },
  {
   "cell_type": "code",
   "execution_count": 9,
   "metadata": {},
   "outputs": [
    {
     "name": "stdout",
     "output_type": "stream",
     "text": [
      "{'name': 'Alice', 'age': 31, 'email': 'alice@example.com'}\n"
     ]
    }
   ],
   "source": [
    "# Removing key-value pairs\n",
    "del dictionary1['city']\n",
    "print(dictionary1)  # Output: {'name': 'Alice', 'age': 31, 'email': 'alice@example.com'}"
   ]
  },
  {
   "cell_type": "code",
   "execution_count": 10,
   "metadata": {},
   "outputs": [
    {
     "name": "stdout",
     "output_type": "stream",
     "text": [
      "alice@example.com\n",
      "{'name': 'Alice', 'age': 31}\n"
     ]
    }
   ],
   "source": [
    "# Using pop to remove a key and return its value\n",
    "email = dictionary1.pop('email')\n",
    "print(email)  # Output: alice@example.com\n",
    "print(dictionary1)  # Output: {'name': 'Alice', 'age': 31}"
   ]
  },
  {
   "cell_type": "code",
   "execution_count": 11,
   "metadata": {},
   "outputs": [
    {
     "name": "stdout",
     "output_type": "stream",
     "text": [
      "('age', 31)\n",
      "{'name': 'Alice'}\n"
     ]
    }
   ],
   "source": [
    "# Using popitem to remove and return an arbitrary (key, value) pair\n",
    "item = dictionary1.popitem()\n",
    "print(item)  # Output: ('age', 31)\n",
    "print(dictionary1)  # Output: {'name': 'Alice'}"
   ]
  },
  {
   "cell_type": "code",
   "execution_count": 12,
   "metadata": {},
   "outputs": [
    {
     "name": "stdout",
     "output_type": "stream",
     "text": [
      "{}\n"
     ]
    }
   ],
   "source": [
    "# Clearing the dictionary\n",
    "dictionary1.clear()\n",
    "print(dictionary1)  # Output: {}"
   ]
  },
  {
   "cell_type": "code",
   "execution_count": 13,
   "metadata": {},
   "outputs": [
    {
     "name": "stdout",
     "output_type": "stream",
     "text": [
      "{'name': 'Bob', 'age': 25, 'city': 'Los Angeles'}\n"
     ]
    }
   ],
   "source": [
    "# Creating a dictionary with dict()\n",
    "dictionary2 = dict(name='Bob', age=25, city='Los Angeles')\n",
    "print(dictionary2)  # Output: {'name': 'Bob', 'age': 25, 'city': 'Los Angeles'}"
   ]
  },
  {
   "cell_type": "markdown",
   "metadata": {},
   "source": [
    "Dictionray Methods"
   ]
  },
  {
   "cell_type": "code",
   "execution_count": 14,
   "metadata": {},
   "outputs": [
    {
     "name": "stdout",
     "output_type": "stream",
     "text": [
      "dict_keys(['name', 'age', 'city'])\n"
     ]
    }
   ],
   "source": [
    "# keys() -> returns a view object of the dictionary's keys\n",
    "keys = dictionary2.keys()\n",
    "print(keys)  # Output: dict_keys(['name', 'age', 'city'])"
   ]
  },
  {
   "cell_type": "code",
   "execution_count": 15,
   "metadata": {},
   "outputs": [
    {
     "name": "stdout",
     "output_type": "stream",
     "text": [
      "dict_values(['Bob', 25, 'Los Angeles'])\n"
     ]
    }
   ],
   "source": [
    "# values() -> returns a view object of the dictionary's values\n",
    "values = dictionary2.values()\n",
    "print(values)  # Output: dict_values(['Bob', 25, 'Los Angeles'])"
   ]
  },
  {
   "cell_type": "code",
   "execution_count": 16,
   "metadata": {},
   "outputs": [
    {
     "name": "stdout",
     "output_type": "stream",
     "text": [
      "dict_items([('name', 'Bob'), ('age', 25), ('city', 'Los Angeles')])\n"
     ]
    }
   ],
   "source": [
    "# items() -> returns a view object of the dictionary's (key, value) pairs\n",
    "items = dictionary2.items()\n",
    "print(items)  # Output: dict_items([('name', 'Bob'), ('age', 25), ('city', 'Los Angeles')])"
   ]
  },
  {
   "cell_type": "code",
   "execution_count": 17,
   "metadata": {},
   "outputs": [
    {
     "name": "stdout",
     "output_type": "stream",
     "text": [
      "{'name': 'Bob', 'age': 25, 'city': 'Los Angeles', 'country': 'USA', 'email': 'bob@example.com'}\n"
     ]
    }
   ],
   "source": [
    "# Updating a dictionary with another dictionary\n",
    "dictionary2.update({'country': 'USA', 'email': 'bob@example.com'})\n",
    "print(dictionary2)  # Output: {'name': 'Bob', 'age': 25, 'city': 'Los Angeles', 'country': 'USA', 'email': 'bob@example.com'}"
   ]
  },
  {
   "cell_type": "code",
   "execution_count": 18,
   "metadata": {},
   "outputs": [
    {
     "name": "stdout",
     "output_type": "stream",
     "text": [
      "{'name': 'Charlie', 'age': 28, 'city': 'San Francisco'}\n"
     ]
    }
   ],
   "source": [
    "# Creating a new dictionary from two lists\n",
    "keys_list = ['name', 'age', 'city']\n",
    "values_list = ['Charlie', 28, 'San Francisco']\n",
    "dictionary3 = dict(zip(keys_list, values_list))\n",
    "print(dictionary3)  # Output: {'name': 'Charlie', 'age': 28, 'city': 'San Francisco'}"
   ]
  },
  {
   "cell_type": "code",
   "execution_count": 19,
   "metadata": {},
   "outputs": [
    {
     "name": "stdout",
     "output_type": "stream",
     "text": [
      "{0: 0, 1: 1, 2: 4, 3: 9, 4: 16, 5: 25}\n"
     ]
    }
   ],
   "source": [
    "# Using dictionary comprehension\n",
    "# Syntax: {key_expression: value_expression for item in iterable}\n",
    "squares = {x: x**2 for x in range(6)}\n",
    "print(squares)  # Output: {0: 0, 1: 1, 2: 4, 3: 9, 4: 16, 5: 25}"
   ]
  },
  {
   "cell_type": "code",
   "execution_count": 20,
   "metadata": {},
   "outputs": [
    {
     "name": "stdout",
     "output_type": "stream",
     "text": [
      "{'person1': {'name': 'David', 'age': 40}, 'person2': {'name': 'Eva', 'age': 35}}\n"
     ]
    }
   ],
   "source": [
    "# Nested dictionaries\n",
    "nested_dict = {\n",
    "    'person1': {'name': 'David', 'age': 40},\n",
    "    'person2': {'name': 'Eva', 'age': 35}\n",
    "}\n",
    "print(nested_dict)  # Output: {'person1': {'name': 'David', 'age': 40}, 'person2': {'name': 'Eva', 'age': 35}}"
   ]
  },
  {
   "cell_type": "code",
   "execution_count": 21,
   "metadata": {},
   "outputs": [
    {
     "name": "stdout",
     "output_type": "stream",
     "text": [
      "David\n"
     ]
    }
   ],
   "source": [
    "# Accessing nested dictionary values\n",
    "print(nested_dict['person1']['name'])  # Output: David"
   ]
  },
  {
   "cell_type": "code",
   "execution_count": 23,
   "metadata": {},
   "outputs": [
    {
     "name": "stdout",
     "output_type": "stream",
     "text": [
      "Key: name, Value: Bob\n",
      "Key: age, Value: 25\n",
      "Key: city, Value: Los Angeles\n",
      "Key: country, Value: USA\n",
      "Key: email, Value: bob@example.com\n"
     ]
    }
   ],
   "source": [
    "# Iterating through a dictionary\n",
    "for key, value in dictionary2.items():\n",
    "    print(f\"Key: {key}, Value: {value}\")\n",
    "\n",
    "# Output:\n",
    "# Key: name, Value: Bob\n",
    "# Key: age, Value: 25\n",
    "# Key: city, Value: Los Angeles\n",
    "# Key: country, Value: USA\n",
    "# Key: email, Value: bob@example.com"
   ]
  },
  {
   "cell_type": "code",
   "execution_count": 25,
   "metadata": {},
   "outputs": [
    {
     "name": "stdout",
     "output_type": "stream",
     "text": [
      "{'a': 1, 'b': 3, 'c': 4}\n"
     ]
    }
   ],
   "source": [
    "# Merging dictionaries (Python 3.9+)\n",
    "dict1 = {'a': 1, 'b': 2}\n",
    "dict2 = {'b': 3, 'c': 4}\n",
    "merged_dict = dict1 | dict2\n",
    "print(merged_dict)  # Output: {'a': 1, 'b': 3, 'c': 4}\n"
   ]
  },
  {
   "cell_type": "code",
   "execution_count": 26,
   "metadata": {},
   "outputs": [
    {
     "name": "stdout",
     "output_type": "stream",
     "text": [
      "[('name', 'Bob'), ('age', 25), ('city', 'Los Angeles'), ('country', 'USA'), ('email', 'bob@example.com')]\n"
     ]
    }
   ],
   "source": [
    "# Converting a dictionary to a list of tuples\n",
    "dict_as_tuples = list(dictionary2.items())\n",
    "print(dict_as_tuples)  # Output: [('name', 'Bob'), ('age', 25), ('city', 'Los Angeles'), ('country', 'USA'), ('email', 'bob@example.com')]"
   ]
  }
 ],
 "metadata": {
  "kernelspec": {
   "display_name": "Python 3",
   "language": "python",
   "name": "python3"
  },
  "language_info": {
   "codemirror_mode": {
    "name": "ipython",
    "version": 3
   },
   "file_extension": ".py",
   "mimetype": "text/x-python",
   "name": "python",
   "nbconvert_exporter": "python",
   "pygments_lexer": "ipython3",
   "version": "3.12.5"
  }
 },
 "nbformat": 4,
 "nbformat_minor": 2
}

{
 "cells": [
  {
   "cell_type": "markdown",
   "metadata": {},
   "source": [
    "### Operators in Python\n",
    "\n",
    "- Operators are symbols that perform operations on values. \n",
    "- Python supports the following operators:\n",
    "    - Arithmetic operators: +, -, *, /, //, %\n",
    "    - Comparison operators: ==, !=, <, >, <=, >=\n",
    "    - Logical operators: and, or, not\n",
    "    - Assignment operators: =, +=, -=, *=, /=, //=, %=\n",
    "    - Bitwise operators: &, |, ^, <<, >>\n",
    "    - Membership operators: in, not in\n",
    "    - Identity operators: is, is not"
   ]
  },
  {
   "cell_type": "markdown",
   "metadata": {},
   "source": [
    "### Arithmetic Operators\n",
    "\n",
    "- Arithmetic operators are used to perform mathematical operations on numbers.\n",
    "- The basic arithmetic operators are:\n",
    "    - Addition (+)\n",
    "    - Subtraction (-)\n",
    "    - Multiplication (*)\n",
    "    - Division (/)\n",
    "    - Modulus (%)\n",
    "    - Exponentiation (**)\n",
    "    - Floor Division (//)"
   ]
  },
  {
   "cell_type": "code",
   "execution_count": 2,
   "metadata": {},
   "outputs": [
    {
     "name": "stdout",
     "output_type": "stream",
     "text": [
      "Addition: 3\n",
      "Subtraction: 3\n",
      "Multiplication: 6\n",
      "Division: 3.0\n",
      "Floor Division: 3\n",
      "Modulus: 1\n",
      "Power: 8\n"
     ]
    }
   ],
   "source": [
    "add = 1 + 2\n",
    "print(\"Addition:\", add)\n",
    "\n",
    "sub = 5 - 2\n",
    "print(\"Subtraction:\", sub)\n",
    "\n",
    "mul = 3 * 2\n",
    "print(\"Multiplication:\", mul)\n",
    "\n",
    "div = 6 / 2\n",
    "print(\"Division:\", div)\n",
    "\n",
    "floor_div = 6 // 2\n",
    "print(\"Floor Division:\", floor_div)\n",
    "\n",
    "mod = 7 % 2\n",
    "print(\"Modulus:\", mod)\n",
    "\n",
    "pow = 2 ** 3\n",
    "print(\"Power:\", pow)"
   ]
  },
  {
   "cell_type": "markdown",
   "metadata": {},
   "source": [
    "### Comparison Operators\n",
    "\n",
    "- Comparison operators are used to compare two values and return a boolean value (True or False).\n",
    "- Comparison operators are often used in conditional statements."
   ]
  },
  {
   "cell_type": "code",
   "execution_count": 3,
   "metadata": {},
   "outputs": [
    {
     "name": "stdout",
     "output_type": "stream",
     "text": [
      "Equality Operator True\n",
      "Not Equality Operator False\n",
      "Greater Operator True\n",
      "Less Operator False\n",
      "Greater Equal Operator True\n",
      "Less Equal Operator False\n"
     ]
    }
   ],
   "source": [
    "is_equal = 5 == 5\n",
    "print(\"Equality Operator\", is_equal)\n",
    "\n",
    "is_not_equal = 5 != 5\n",
    "print(\"Not Equality Operator\", is_not_equal)\n",
    "\n",
    "is_greater = 5 > 3\n",
    "print(\"Greater Operator\", is_greater)\n",
    "\n",
    "is_less = 5 < 3\n",
    "print(\"Less Operator\", is_less)\n",
    "\n",
    "is_greater_equal = 5 >= 3\n",
    "print(\"Greater Equal Operator\", is_greater_equal)\n",
    "\n",
    "is_less_equal = 5 <= 3\n",
    "print(\"Less Equal Operator\", is_less_equal)"
   ]
  },
  {
   "cell_type": "markdown",
   "metadata": {},
   "source": [
    "### Logical Operators\n",
    "\n",
    "- Logical operators are used to combine multiple conditions. They return a boolean value (True or False) based on the result of the condition."
   ]
  },
  {
   "cell_type": "code",
   "execution_count": 5,
   "metadata": {},
   "outputs": [
    {
     "name": "stdout",
     "output_type": "stream",
     "text": [
      "And False\n",
      "Or True\n",
      "Not False\n"
     ]
    }
   ],
   "source": [
    "and_opr = True and False\n",
    "print(\"And\", and_opr)\n",
    "\n",
    "or_opr = True or False\n",
    "print(\"Or\", or_opr)\n",
    "\n",
    "not_opr = not True\n",
    "print(\"Not\", not_opr)"
   ]
  },
  {
   "cell_type": "markdown",
   "metadata": {},
   "source": [
    "### Assignment Operators\n",
    "\n",
    "- Assignment operators are used to assign values to variables.\n",
    "- The most common assignment operator is the equals sign (=).\n",
    "- The equals sign (=) is used to assign a value to a variable."
   ]
  },
  {
   "cell_type": "code",
   "execution_count": 6,
   "metadata": {},
   "outputs": [
    {
     "name": "stdout",
     "output_type": "stream",
     "text": [
      "Assign is 5\n",
      "Assign is 6\n",
      "Assign is 5\n",
      "Assign is 10\n",
      "Assign is 5.0\n",
      "Assign is 1.0\n",
      "Assign is 1.0\n"
     ]
    }
   ],
   "source": [
    "assign = 5\n",
    "print(\"Assign is\", assign)\n",
    "\n",
    "assign += 1\n",
    "print(\"Assign is\", assign)\n",
    "\n",
    "assign -= 1\n",
    "print(\"Assign is\", assign)\n",
    "\n",
    "assign *= 2\n",
    "print(\"Assign is\", assign)\n",
    "\n",
    "assign /= 2\n",
    "print(\"Assign is\", assign)\n",
    "\n",
    "assign %= 2\n",
    "print(\"Assign is\", assign)\n",
    "\n",
    "assign **= 2\n",
    "print(\"Assign is\", assign)"
   ]
  },
  {
   "cell_type": "markdown",
   "metadata": {},
   "source": [
    "### Bitwise Operators\n",
    "\n",
    "- Bitwise operators are used to perform operations on binary numbers.\n",
    "- They are used to perform bitwise operations on integers.\n",
    "- They are also used to perform bitwise operations on strings."
   ]
  },
  {
   "cell_type": "code",
   "execution_count": 7,
   "metadata": {},
   "outputs": [
    {
     "name": "stdout",
     "output_type": "stream",
     "text": [
      "Bitwise AND: 0\n",
      "Bitwise OR: 3\n",
      "Bitwise XOR: 3\n",
      "Bitwise NOT: -2\n",
      "Bitwise Left Shift: 4\n",
      "Bitwise Right Shift: 0\n"
     ]
    }
   ],
   "source": [
    "bitwise_and = 1 & 2\n",
    "print(\"Bitwise AND:\", bitwise_and)\n",
    "\n",
    "bitwise_or = 1 | 2\n",
    "print(\"Bitwise OR:\", bitwise_or)\n",
    "\n",
    "bitwise_xor = 1 ^ 2\n",
    "print(\"Bitwise XOR:\", bitwise_xor)\n",
    "\n",
    "bitwise_not = ~1\n",
    "print(\"Bitwise NOT:\", bitwise_not)\n",
    "\n",
    "bitwise_left_shift = 1 << 2\n",
    "print(\"Bitwise Left Shift:\", bitwise_left_shift)\n",
    "\n",
    "bitwise_right_shift = 1 >> 2\n",
    "print(\"Bitwise Right Shift:\", bitwise_right_shift)"
   ]
  }
 ],
 "metadata": {
  "kernelspec": {
   "display_name": "Python 3",
   "language": "python",
   "name": "python3"
  },
  "language_info": {
   "codemirror_mode": {
    "name": "ipython",
    "version": 3
   },
   "file_extension": ".py",
   "mimetype": "text/x-python",
   "name": "python",
   "nbconvert_exporter": "python",
   "pygments_lexer": "ipython3",
   "version": "3.12.5"
  }
 },
 "nbformat": 4,
 "nbformat_minor": 2
}
